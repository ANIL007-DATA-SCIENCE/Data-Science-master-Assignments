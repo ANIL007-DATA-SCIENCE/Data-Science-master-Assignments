{
 "cells": [
  {
   "cell_type": "markdown",
   "id": "5ff6a1b2-81f6-4db5-990c-820ac3ee06d6",
   "metadata": {},
   "source": [
    "# Day 5:Data Science master class Assignment "
   ]
  },
  {
   "cell_type": "markdown",
   "id": "180740fd-bfa1-4fa8-b705-33a952b6cb6e",
   "metadata": {},
   "source": [
    "## 1) What are the charecterstics of tuple? is tuple immutable?"
   ]
  },
  {
   "cell_type": "code",
   "execution_count": null,
   "id": "246682cb-6cc2-4945-aeac-4a49ea0128c4",
   "metadata": {},
   "outputs": [],
   "source": [
    "--> Charecterstics:\n",
    "Tuple is enclosed with in paranthesis.\n",
    "Tuple is immutable(particular index can not able to change).\n",
    "Tuple is ordered collection of elements.\n",
    "Allows duplicate values.\n",
    "Tuples are indexed.\n",
    "    \n",
    "-> Yes tuple immutable"
   ]
  },
  {
   "cell_type": "code",
   "execution_count": null,
   "id": "ffc7159b-8535-433a-bf6f-6ea10f3b018a",
   "metadata": {},
   "outputs": [],
   "source": []
  },
  {
   "cell_type": "code",
   "execution_count": null,
   "id": "6a71c397-8d7f-4a9e-b1e0-7e869d438324",
   "metadata": {},
   "outputs": [],
   "source": [
    "2) What are the two tuple methods in python?Give Example of each method and give reason why tuple has onlt two in-built method compared to list.\n",
    "-->count() and index()"
   ]
  },
  {
   "cell_type": "code",
   "execution_count": 3,
   "id": "bdb7cd02-0db7-4473-a58d-54b6bff58827",
   "metadata": {},
   "outputs": [
    {
     "data": {
      "text/plain": [
       "3"
      ]
     },
     "execution_count": 3,
     "metadata": {},
     "output_type": "execute_result"
    }
   ],
   "source": [
    "# Example of count()\n",
    "t1 = (1,2,3,4,2,5,6,2,7)\n",
    "t1.count(2)"
   ]
  },
  {
   "cell_type": "code",
   "execution_count": 4,
   "id": "4b0b8b9d-7bc0-42c6-92d3-59330a395697",
   "metadata": {},
   "outputs": [
    {
     "data": {
      "text/plain": [
       "2"
      ]
     },
     "execution_count": 4,
     "metadata": {},
     "output_type": "execute_result"
    }
   ],
   "source": [
    "# Example of index()\n",
    "t2 = (1,2,3,4,2,5,6,2,7)\n",
    "t2.index(3)"
   ]
  },
  {
   "cell_type": "code",
   "execution_count": null,
   "id": "29bcc32a-0915-492d-832a-758403acb378",
   "metadata": {},
   "outputs": [],
   "source": []
  },
  {
   "cell_type": "code",
   "execution_count": null,
   "id": "e7f8fce7-edac-437b-9401-9ff29f2b8893",
   "metadata": {},
   "outputs": [],
   "source": [
    "3) Which collection of data types in pytho does not allow duplicate items?\n",
    "--> Set does not allow duplicate items"
   ]
  },
  {
   "cell_type": "code",
   "execution_count": 5,
   "id": "34fdd8e8-4e38-4f51-a04b-a86cfbacea71",
   "metadata": {},
   "outputs": [],
   "source": [
    "List = [1, 1, 1, 2, 1, 3, 1, 4, 2, 1, 2, 2, 2, 3, 2, 4, 3, 1, 3, 2, 3, 3, 3, 4, 4, 1, 4, 2, 4, 3, 4, 4]"
   ]
  },
  {
   "cell_type": "code",
   "execution_count": 8,
   "id": "b7ad2935-2b4b-4b66-b5e3-805eef69e2bb",
   "metadata": {},
   "outputs": [
    {
     "data": {
      "text/plain": [
       "{1, 2, 3, 4}"
      ]
     },
     "execution_count": 8,
     "metadata": {},
     "output_type": "execute_result"
    }
   ],
   "source": [
    "s = {1, 1, 1, 2, 1, 3, 1, 4, 2, 1, 2, 2, 2, 3, 2, 4, 3, 1, 3, 2, 3, 3, 3, 4, 4, 1, 4, 2, 4, 3, 4, 4}\n",
    "s"
   ]
  },
  {
   "cell_type": "code",
   "execution_count": null,
   "id": "afeeed5a-0662-4121-a53f-b56fcf157d8b",
   "metadata": {},
   "outputs": [],
   "source": []
  },
  {
   "cell_type": "code",
   "execution_count": null,
   "id": "fcb0aa45-1809-4a26-b52c-9f31c10756da",
   "metadata": {},
   "outputs": [],
   "source": [
    "4) Explain the difference between the union() and update() methods for a set. Give an example of\n",
    "each method."
   ]
  },
  {
   "cell_type": "code",
   "execution_count": null,
   "id": "d660dc26-0737-4a0e-a0d9-0a3b66057442",
   "metadata": {},
   "outputs": [],
   "source": [
    "union(): union creates a new set\n",
    "update() : update adds all missing elements to the set on which it is called whereas set."
   ]
  },
  {
   "cell_type": "code",
   "execution_count": 9,
   "id": "3438c700-5efc-4c73-83c2-108f32a74336",
   "metadata": {},
   "outputs": [
    {
     "name": "stdout",
     "output_type": "stream",
     "text": [
      "{'Julia', 'JavaScript', 'Go', 'Python', 'R'}\n"
     ]
    }
   ],
   "source": [
    "# example of update()\n",
    "A = {'Python', 'R', 'Julia'}\n",
    "B = {'Python', 'JavaScript', 'Go'}\n",
    "\n",
    "A.update(B)\n",
    "print(A)"
   ]
  },
  {
   "cell_type": "code",
   "execution_count": 10,
   "id": "5fcce412-075f-4fb8-a7ba-5d3e62f34c76",
   "metadata": {},
   "outputs": [
    {
     "name": "stdout",
     "output_type": "stream",
     "text": [
      "None\n"
     ]
    }
   ],
   "source": [
    "A = {'Python', 'R', 'Julia'}\n",
    "B = {'Python', 'JavaScript', 'Go'}\n",
    "\n",
    "C = A.update(B)\n",
    "print(C)"
   ]
  },
  {
   "cell_type": "code",
   "execution_count": 11,
   "id": "54762d02-be98-4e7e-bd92-62474d5dda87",
   "metadata": {},
   "outputs": [
    {
     "name": "stdout",
     "output_type": "stream",
     "text": [
      "{1, 2, 3, 4}\n"
     ]
    }
   ],
   "source": [
    "# Example of union()\n",
    "l1 = {1, 2, 3}\n",
    "l2 = [2, 3, 4]\n",
    "\n",
    "print(l1.union(l2))"
   ]
  },
  {
   "cell_type": "code",
   "execution_count": null,
   "id": "46b24d79-6d37-44cc-8f3c-f7bcdcb00540",
   "metadata": {},
   "outputs": [],
   "source": []
  },
  {
   "cell_type": "code",
   "execution_count": null,
   "id": "66daae93-6a32-48f6-921e-5949031d196d",
   "metadata": {},
   "outputs": [],
   "source": [
    "5) What is a dictionary? Give an example. Also, state whether a dictionary is ordered or unordered.\n",
    "--> Dictionary is combination of key and value pair and enclosed with in a curly braces\n",
    "\n",
    "Dictionary is ordered in 3.77 version and unorderd in 3.6 version"
   ]
  },
  {
   "cell_type": "code",
   "execution_count": null,
   "id": "1dfd9c29-e013-4273-8b3b-40a4742f8202",
   "metadata": {},
   "outputs": [],
   "source": []
  },
  {
   "cell_type": "code",
   "execution_count": null,
   "id": "6548e8ad-16ae-47f1-b3cc-cef2ceaf6911",
   "metadata": {},
   "outputs": [],
   "source": [
    "6)Can we create a nested dictionary? If so, please give an example by creating a simple one-level\n",
    "nested dictionary.\n",
    "-->yes we can "
   ]
  },
  {
   "cell_type": "code",
   "execution_count": 19,
   "id": "1dd60690-7e2b-469c-a961-29d54f767a15",
   "metadata": {},
   "outputs": [
    {
     "data": {
      "text/plain": [
       "{'programming': {'lang': ('Python', 'java', 'c++')}}"
      ]
     },
     "execution_count": 19,
     "metadata": {},
     "output_type": "execute_result"
    }
   ],
   "source": [
    "# Example of nested dictionary\n",
    "dict1 = {'programming' : {'lang':('Python','java','c++')}}\n",
    "dict1"
   ]
  },
  {
   "cell_type": "code",
   "execution_count": null,
   "id": "db8efe21-f402-4d00-abaa-b34c82e40c30",
   "metadata": {},
   "outputs": [],
   "source": []
  },
  {
   "cell_type": "code",
   "execution_count": null,
   "id": "52f19ebe-b69e-48b3-a657-1c8196b42f24",
   "metadata": {},
   "outputs": [],
   "source": [
    "7) Using setdefault() method, create key named topics in the given dictionary and also add the value of\n",
    "the key as this list ['Python', 'Machine Learning’, 'Deep Learning']\n",
    "dict1 = {'language' : 'Python', 'course': 'Data Science Masters'}"
   ]
  },
  {
   "cell_type": "code",
   "execution_count": 16,
   "id": "a3eaee3e-307c-4891-b654-4cc97eccbf4a",
   "metadata": {},
   "outputs": [
    {
     "name": "stdout",
     "output_type": "stream",
     "text": [
      "{'language': 'Python', 'course': 'Data Science Masters', 'topics': ['Python', 'Machine Learning', 'Deep Learning']}\n"
     ]
    }
   ],
   "source": [
    "dict1 = {'language' : 'Python', 'course': 'Data Science Masters'}\n",
    "dict1.setdefault('topics', ['Python', 'Machine Learning', 'Deep Learning'])\n",
    "print(dict1)"
   ]
  },
  {
   "cell_type": "code",
   "execution_count": null,
   "id": "baf039cd-9934-421c-8898-12f7777c7fc6",
   "metadata": {},
   "outputs": [],
   "source": []
  },
  {
   "cell_type": "code",
   "execution_count": null,
   "id": "81f7cd86-5501-4072-83c9-15f03646f8eb",
   "metadata": {},
   "outputs": [],
   "source": [
    "8) What are the three view objects in dictionaries? Use the three in-built methods in python to display\n",
    "these three view objects for the given dictionary.\n",
    "dict1 = {'Sport': 'Cricket' , 'Teams': ['India', 'Australia', 'England', 'South Africa', 'Sri Lanka', 'New Zealand']}\n",
    "-->\n",
    "keys()\n",
    "values()\n",
    "items()\n",
    "Each of these view objects provides a different view into the dictionary.\n",
    "\n",
    "keys() returns a view object that displays a list of all the keys in the dictionary.\n",
    "values() returns a view object that displays a list of all the values in the dictionary.\n",
    "items() returns a view object that displays a list of all the key-value pairs (items) in the dictionary."
   ]
  },
  {
   "cell_type": "code",
   "execution_count": 17,
   "id": "bee927d6-e16b-4b11-814f-2bdb3c6b27ca",
   "metadata": {},
   "outputs": [
    {
     "name": "stdout",
     "output_type": "stream",
     "text": [
      "Keys view object: dict_keys(['Sport', 'Teams'])\n",
      "Values view object: dict_values(['Cricket', ['India', 'Australia', 'England', 'South Africa', 'Sri Lanka', 'New Zealand']])\n",
      "Items view object: dict_items([('Sport', 'Cricket'), ('Teams', ['India', 'Australia', 'England', 'South Africa', 'Sri Lanka', 'New Zealand'])])\n"
     ]
    }
   ],
   "source": [
    "# EXAMPLE\n",
    "dict1 = {'Sport': 'Cricket' , 'Teams': ['India', 'Australia', 'England', 'South Africa', 'Sri Lanka', 'New Zealand']}\n",
    "\n",
    "print(\"Keys view object:\", dict1.keys())\n",
    "print(\"Values view object:\", dict1.values())\n",
    "print(\"Items view object:\", dict1.items())"
   ]
  },
  {
   "cell_type": "code",
   "execution_count": null,
   "id": "c41579fe-1bd2-45b4-b5db-382a6f453c68",
   "metadata": {},
   "outputs": [],
   "source": []
  }
 ],
 "metadata": {
  "kernelspec": {
   "display_name": "Python 3 (ipykernel)",
   "language": "python",
   "name": "python3"
  },
  "language_info": {
   "codemirror_mode": {
    "name": "ipython",
    "version": 3
   },
   "file_extension": ".py",
   "mimetype": "text/x-python",
   "name": "python",
   "nbconvert_exporter": "python",
   "pygments_lexer": "ipython3",
   "version": "3.10.8"
  }
 },
 "nbformat": 4,
 "nbformat_minor": 5
}
