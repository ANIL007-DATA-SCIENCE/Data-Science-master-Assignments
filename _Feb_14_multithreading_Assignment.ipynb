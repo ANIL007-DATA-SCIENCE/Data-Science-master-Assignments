{
 "cells": [
  {
   "cell_type": "markdown",
   "id": "2eadbb34-c4e9-4dee-b43d-004afc2e3375",
   "metadata": {},
   "source": [
    "# Feb_14_multithreading_Assignment"
   ]
  },
  {
   "cell_type": "code",
   "execution_count": null,
   "id": "1ecd9697-9504-4b15-a778-041ef37f728c",
   "metadata": {},
   "outputs": [],
   "source": [
    "Q1) What is multithreading in python? hy is it used? Name the module used to handle threads in python\n",
    "--> Multithreading gives a ability of a program to execute multiple threads of execution simultaneously within a single process\n",
    "\n",
    "module - threading:\n",
    "    1.threading module provides a high-level interface for creating and managing threads.\n",
    "    2.It includes support for synchronization primitives such as locks and semaphores to manage shared resources between threads. "
   ]
  },
  {
   "cell_type": "code",
   "execution_count": null,
   "id": "bff8a17a-c203-4452-9ebe-fbfda2ad72d4",
   "metadata": {},
   "outputs": [],
   "source": []
  },
  {
   "cell_type": "code",
   "execution_count": null,
   "id": "61beca99-60fe-4c3f-a753-ca4b272f1c04",
   "metadata": {},
   "outputs": [],
   "source": [
    "Q2) Why threading module used? rite the use of the following functions\n",
    "a = activeCount()\n",
    "b = currentThread()\n",
    "c = enumerate()\n",
    "\n",
    "a = activecount():\n",
    "    activecount() is used to return the number of Thread objects that are currently active in the current process. "
   ]
  },
  {
   "cell_type": "code",
   "execution_count": 2,
   "id": "0a7b1fa0-1dbd-4030-9c3a-823d95ffc906",
   "metadata": {},
   "outputs": [
    {
     "name": "stdout",
     "output_type": "stream",
     "text": [
      "Worker thread started\n",
      "Worker thread started\n",
      "Worker thread started\n",
      "Worker thread started\n",
      "Worker thread started\n",
      "Number of active threads: 8\n"
     ]
    },
    {
     "name": "stderr",
     "output_type": "stream",
     "text": [
      "/tmp/ipykernel_1563/1996575103.py:13: DeprecationWarning: activeCount() is deprecated, use active_count() instead\n",
      "  print(f\"Number of active threads: {threading.activeCount()}\")\n"
     ]
    }
   ],
   "source": [
    "# Example of activecount()\n",
    "import threading\n",
    "\n",
    "def worker():\n",
    "    print(\"Worker thread started\")\n",
    "\n",
    "threads = []\n",
    "for i in range(5):\n",
    "    t = threading.Thread(target=worker)\n",
    "    t.start()\n",
    "    threads.append(t)\n",
    "\n",
    "print(f\"Number of active threads: {threading.activeCount()}\")\n"
   ]
  },
  {
   "cell_type": "code",
   "execution_count": null,
   "id": "9583b9e5-d3a4-4182-a7b0-f7fd1676524c",
   "metadata": {},
   "outputs": [],
   "source": [
    "b = currentThread():\n",
    "    currentThread() is used to return a reference to the current Thread object. "
   ]
  },
  {
   "cell_type": "code",
   "execution_count": 3,
   "id": "6f27cce3-6765-4cb3-a4eb-04c52c3d9a6f",
   "metadata": {},
   "outputs": [
    {
     "name": "stdout",
     "output_type": "stream",
     "text": [
      "Worker thread: Thread-10 (worker)\n",
      "Worker thread: Thread-11 (worker)\n",
      "Worker thread: Thread-12 (worker)\n",
      "Worker thread: Thread-13 (worker)\n",
      "Worker thread: Thread-14 (worker)\n",
      "Main thread:  MainThread\n"
     ]
    },
    {
     "name": "stderr",
     "output_type": "stream",
     "text": [
      "/tmp/ipykernel_1563/890614056.py:5: DeprecationWarning: currentThread() is deprecated, use current_thread() instead\n",
      "  print(f\"Worker thread: {threading.currentThread().getName()}\")\n",
      "/tmp/ipykernel_1563/890614056.py:5: DeprecationWarning: getName() is deprecated, get the name attribute instead\n",
      "  print(f\"Worker thread: {threading.currentThread().getName()}\")\n",
      "/tmp/ipykernel_1563/890614056.py:13: DeprecationWarning: currentThread() is deprecated, use current_thread() instead\n",
      "  print(\"Main thread: \", threading.currentThread().getName())\n",
      "/tmp/ipykernel_1563/890614056.py:13: DeprecationWarning: getName() is deprecated, get the name attribute instead\n",
      "  print(\"Main thread: \", threading.currentThread().getName())\n"
     ]
    }
   ],
   "source": [
    "# Example of currentThread()\n",
    "import threading\n",
    "\n",
    "def worker():\n",
    "    print(f\"Worker thread: {threading.currentThread().getName()}\")\n",
    "\n",
    "threads = []\n",
    "for i in range(5):\n",
    "    t = threading.Thread(target=worker)\n",
    "    t.start()\n",
    "    threads.append(t)\n",
    "\n",
    "print(\"Main thread: \", threading.currentThread().getName())\n"
   ]
  },
  {
   "cell_type": "code",
   "execution_count": null,
   "id": "ddb5b6d6-234d-42e3-b0eb-434217c26fed",
   "metadata": {},
   "outputs": [],
   "source": [
    "c = enumerate():\n",
    "    enumerate() is used to obtain a list of all Thread objects that are currently active in the current process. "
   ]
  },
  {
   "cell_type": "code",
   "execution_count": 4,
   "id": "de5e1ad2-1fa9-4683-b4eb-724159c672f9",
   "metadata": {},
   "outputs": [
    {
     "name": "stdout",
     "output_type": "stream",
     "text": [
      "Worker thread: Thread-15 (worker)\n",
      "Worker thread: Thread-16 (worker)\n",
      "Worker thread: Thread-17 (worker)\n",
      "Worker thread: Thread-18 (worker)\n",
      "Worker thread: Thread-19 (worker)\n",
      "Thread name: MainThread, Thread ID: 139741889562432\n",
      "Thread name: IOPub, Thread ID: 139741819033152\n",
      "Thread name: Heartbeat, Thread ID: 139741810640448\n",
      "Thread name: Thread-3 (_watch_pipe_fd), Thread ID: 139741576025664\n",
      "Thread name: Thread-4 (_watch_pipe_fd), Thread ID: 139741567632960\n",
      "Thread name: Control, Thread ID: 139741559240256\n",
      "Thread name: IPythonHistorySavingThread, Thread ID: 139741550847552\n",
      "Thread name: Thread-2, Thread ID: 139741542454848\n"
     ]
    },
    {
     "name": "stderr",
     "output_type": "stream",
     "text": [
      "/tmp/ipykernel_1563/2944973229.py:5: DeprecationWarning: currentThread() is deprecated, use current_thread() instead\n",
      "  print(f\"Worker thread: {threading.currentThread().getName()}\")\n",
      "/tmp/ipykernel_1563/2944973229.py:5: DeprecationWarning: getName() is deprecated, get the name attribute instead\n",
      "  print(f\"Worker thread: {threading.currentThread().getName()}\")\n",
      "/tmp/ipykernel_1563/2944973229.py:14: DeprecationWarning: getName() is deprecated, get the name attribute instead\n",
      "  print(f\"Thread name: {t.getName()}, Thread ID: {t.ident}\")\n"
     ]
    }
   ],
   "source": [
    "# Example of enumerate()\n",
    "import threading\n",
    "\n",
    "def worker():\n",
    "    print(f\"Worker thread: {threading.currentThread().getName()}\")\n",
    "\n",
    "threads = []\n",
    "for i in range(5):\n",
    "    t = threading.Thread(target=worker)\n",
    "    t.start()\n",
    "    threads.append(t)\n",
    "\n",
    "for t in threading.enumerate():\n",
    "    print(f\"Thread name: {t.getName()}, Thread ID: {t.ident}\")\n"
   ]
  },
  {
   "cell_type": "code",
   "execution_count": null,
   "id": "47c3efc4-1a2d-478c-8e8c-55e51c44056b",
   "metadata": {},
   "outputs": [],
   "source": []
  },
  {
   "cell_type": "code",
   "execution_count": null,
   "id": "d45318b6-1785-4ef1-880c-76e601e61e9e",
   "metadata": {},
   "outputs": [],
   "source": [
    "Q3) Explain the following functions\n",
    "a = run()\n",
    "b = start()\n",
    "c = join()\n",
    "d = isAlive()\n",
    "\n",
    "-->\n",
    "a) run(): \n",
    "    1.The run() method is a method of the Thread class in Python's threading module. \n",
    "    2.This method represents the code that will be executed by the thread when it is started. \n",
    "    3.It is the method that should be overridden by a subclass of Thread to implement the specific functionality of that thread. \n",
    "    4.When a thread is started using the start() method, the run() method of that thread is called automatically \n",
    "      in a separate thread of control.\n",
    "\n",
    "b) start(): \n",
    "    1.The start() method is another method of the Thread class in the threading module. \n",
    "    2.This method is used to start a new thread of control for the current Thread object. \n",
    "    3.When the start() method is called, the run() method of the thread is executed in a new thread of control.\n",
    "    4.It is important to note that the start() method can only be called once per Thread object. \n",
    "    5.If you try to call start() on a Thread object that has already started, a RuntimeError will be raised.\n",
    "\n",
    "c) join(): \n",
    "    1.The join() method is a method of the Thread class in the threading module. \n",
    "    2.This method is used to block the calling thread until the thread represented by the Thread object on which join() is called has completed. \n",
    "    3.when you call join() on a Thread object, the calling thread will wait until the thread represented by that \n",
    "        object has finished executing before continuing.\n",
    "\n",
    "d) isAlive(): \n",
    "    1.The isAlive() method is another method of the Thread class in the threading module. \n",
    "    2.This method returns a boolean value indicating whether or not the thread represented by the Thread object is currently executing. \n",
    "    3.If the thread is still running, the method returns True. If the thread has finished executing, the method returns False. \n",
    "    4.This method can be used to check the status of a thread from another thread."
   ]
  },
  {
   "cell_type": "code",
   "execution_count": null,
   "id": "1598b1e2-1ee7-4500-b4ca-ddd52b7231d9",
   "metadata": {},
   "outputs": [],
   "source": []
  },
  {
   "cell_type": "code",
   "execution_count": null,
   "id": "fe8e658c-8514-4004-929a-273b99b648dd",
   "metadata": {},
   "outputs": [],
   "source": [
    "Q4) Write a python program to create two threads. Thread one must print the list of squares and thread\n",
    "two must print the list of cubes"
   ]
  },
  {
   "cell_type": "code",
   "execution_count": 5,
   "id": "da733ee6-2f39-46a8-9578-9dc2f6891d3d",
   "metadata": {},
   "outputs": [
    {
     "name": "stdout",
     "output_type": "stream",
     "text": [
      "Square of 1: 1\n",
      "Square of 2: 4\n",
      "Square of 3: 9\n",
      "Square of 4: 16\n",
      "Square of 5: 25\n",
      "Cube of 1: 1\n",
      "Cube of 2: 8\n",
      "Cube of 3: 27\n",
      "Cube of 4: 64\n",
      "Cube of 5: 125\n",
      "Program terminated\n"
     ]
    }
   ],
   "source": [
    "import threading\n",
    "\n",
    "def print_squares():\n",
    "    for i in range(1, 6):\n",
    "        print(f\"Square of {i}: {i*i}\")\n",
    "        \n",
    "def print_cubes():\n",
    "    for i in range(1, 6):\n",
    "        print(f\"Cube of {i}: {i*i*i}\")\n",
    "\n",
    "t1 = threading.Thread(target=print_squares)\n",
    "t2 = threading.Thread(target=print_cubes)\n",
    "\n",
    "t1.start()\n",
    "t2.start()\n",
    "\n",
    "t1.join()\n",
    "t2.join()\n",
    "\n",
    "print(\"Program terminated\")\n"
   ]
  },
  {
   "cell_type": "code",
   "execution_count": null,
   "id": "c70b8640-40fa-4a18-8319-cd398881b7dc",
   "metadata": {},
   "outputs": [],
   "source": []
  },
  {
   "cell_type": "code",
   "execution_count": null,
   "id": "56c30e66-76c7-4c09-a3c4-29c0049867ab",
   "metadata": {},
   "outputs": [],
   "source": [
    "Q5) State advantages and disadvantages of multithreading\n",
    "\n",
    "-->\n",
    "Advantages:\n",
    "\n",
    "1.Improved performance: \n",
    "    a.Multithreading can significantly improve the performance of a program by allowing it to utilize multiple cores or CPUs to \n",
    "      perform tasks simultaneously. \n",
    "    b.This can result in faster execution times and better overall system responsiveness.\n",
    "    \n",
    "2.Better resource utilization:\n",
    "    a.Multithreading can also improve resource utilization by allowing multiple threads to share resources, \n",
    "    such as memory or network connections, more efficiently. This can help reduce resource contention and improve system scalability.\n",
    "\n",
    "3.Simplified program design: \n",
    "    a.Multithreading can simplify the design of complex programs by allowing different tasks to \n",
    "        be performed concurrently in separate threads. \n",
    "    b.This can help make programs easier to write and maintain.\n",
    "\n",
    "4.Asynchronous processing: \n",
    "    a.Multithreading can also enable asynchronous processing, which allows a program to \n",
    "        continue executing other tasks while waiting for I/O operations or other long-running operations to complete.\n",
    "    b.This can improve system responsiveness and efficiency.\n",
    "    \n",
    "    \n",
    "Disadvantages:\n",
    "\n",
    "1.Increased complexity: \n",
    "    a.Multithreading can make programs more complex and harder to debug, especially when multiple threads are accessing shared resources.\n",
    "    b.This can lead to race conditions, deadlocks, and other synchronization issues that are difficult to resolve.\n",
    "\n",
    "2.Synchronization overhead:\n",
    "    a.Multithreading can also introduce synchronization overhead, as threads must coordinate their access to \n",
    "    shared resources to prevent conflicts. \n",
    "    b.This can result in reduced performance, especially when many threads are accessing the same resources.\n",
    "\n",
    "3.Non-deterministic behavior: \n",
    "    a.Multithreading can introduce non-deterministic behavior, as the order of execution of different threads may be unpredictable. \n",
    "    b.This can make it harder to reason about the behavior of a program and make it more difficult to reproduce bugs.\n",
    "\n",
    "4.Increased memory usage: \n",
    "    a.Multithreading can also increase memory usage, as each thread requires its own stack and other data structures. \n",
    "    b.This can be a problem in memory-constrained environments, such as embedded systems or mobile devices."
   ]
  },
  {
   "cell_type": "code",
   "execution_count": null,
   "id": "e1916098-a7c7-458f-9c7e-4b328e54dd1b",
   "metadata": {},
   "outputs": [],
   "source": []
  },
  {
   "cell_type": "code",
   "execution_count": null,
   "id": "0ed84030-2b6c-4b71-8580-b6c2402bfbb0",
   "metadata": {},
   "outputs": [],
   "source": [
    "Q6) Explain deadlocks and race conditions.\n",
    "\n",
    "-->\n",
    "1.Deadlock:\n",
    "    a.A deadlock occurs when two or more threads are blocked and waiting for each other to release a shared resource, \n",
    "        resulting in a situation where none of the threads can proceed. \n",
    "    b.This can happen when each thread holds a resource that the other thread needs, and neither thread can release \n",
    "        its resource until it acquires the resource it needs from the other thread.\n",
    "\n",
    "For example:\n",
    "    suppose Thread A holds a lock on Resource 1 and is waiting to acquire a lock on Resource 2, \n",
    "    while Thread B holds a lock on Resource 2 and is waiting to acquire a lock on Resource 1. In this scenario, \n",
    "    both threads are blocked and waiting for each other to release the resource they need, resulting in a deadlock.\n",
    "\n",
    "Race Condition:\n",
    "A race condition occurs when two or more threads access a shared resource concurrently, and the final result depends on the timing or order of the thread execution. This can lead to unpredictable behavior or incorrect results, as different threads may overwrite each other's changes or read outdated values.\n",
    "\n",
    "For example, suppose two threads, Thread A and Thread B, are accessing a shared variable x. Thread A increments x by 1, while Thread B multiplies x by 2. If Thread A executes first, x will be incremented by 1 and then multiplied by 2, resulting in x being equal to (1 + 1) * 2 = 4. However, if Thread B executes first, x will be multiplied by 2 and then incremented by 1, resulting in x being equal to (0 * 2) + 1 = 1."
   ]
  }
 ],
 "metadata": {
  "kernelspec": {
   "display_name": "Python 3 (ipykernel)",
   "language": "python",
   "name": "python3"
  },
  "language_info": {
   "codemirror_mode": {
    "name": "ipython",
    "version": 3
   },
   "file_extension": ".py",
   "mimetype": "text/x-python",
   "name": "python",
   "nbconvert_exporter": "python",
   "pygments_lexer": "ipython3",
   "version": "3.10.8"
  }
 },
 "nbformat": 4,
 "nbformat_minor": 5
}
