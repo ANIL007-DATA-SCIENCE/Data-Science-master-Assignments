{
 "cells": [
  {
   "cell_type": "markdown",
   "id": "a8429871-141d-40bc-9570-d6a183ed2664",
   "metadata": {},
   "source": [
    "# DAY2.ASSIGNMENT PROBLEMS"
   ]
  },
  {
   "cell_type": "markdown",
   "id": "781e3f4f-1f51-4cfa-a856-afcf828b8812",
   "metadata": {},
   "source": [
    "## 1. Write a program to accept a percentage from the user and display the grade according to the fallowing criteria.\n"
   ]
  },
  {
   "cell_type": "code",
   "execution_count": 2,
   "id": "be9d2852-ee43-427a-a6e6-982037579fbe",
   "metadata": {},
   "outputs": [
    {
     "name": "stdin",
     "output_type": "stream",
     "text": [
      "Enter the percentage :  52\n"
     ]
    },
    {
     "name": "stdout",
     "output_type": "stream",
     "text": [
      "D\n"
     ]
    }
   ],
   "source": [
    "percentage = int(input(\"Enter the percentage : \"))\n",
    "if percentage>90:\n",
    "    print(\"A\")\n",
    "elif percentage>80 and percentage<=90:\n",
    "    print(\"B\")\n",
    "elif percentage>=60 and percentage<=80:\n",
    "    print(\"c\")\n",
    "else:\n",
    "    print(\"D\")"
   ]
  },
  {
   "cell_type": "markdown",
   "id": "9de478c1-d4db-4b97-8ce5-74d32fd4faa5",
   "metadata": {},
   "source": [
    "## 2. Write a program accept a cost price at bike and display the road tax to be paid according to the fallowing criteria."
   ]
  },
  {
   "cell_type": "code",
   "execution_count": 5,
   "id": "457f4c7b-e936-4f1c-a246-22d45f6993fb",
   "metadata": {},
   "outputs": [
    {
     "name": "stdin",
     "output_type": "stream",
     "text": [
      "Enter the cost_price :  500000\n"
     ]
    },
    {
     "name": "stdout",
     "output_type": "stream",
     "text": [
      "15%\n"
     ]
    }
   ],
   "source": [
    "cost_price = int(input(\"Enter the cost_price : \"))\n",
    "if cost_price>100000:\n",
    "    print(\"15%\")\n",
    "elif cost_price>50000 and cost_price<=100000:\n",
    "    print(\"10%\")\n",
    "else:\n",
    "     print(\"5%\")\n",
    "    \n",
    "    "
   ]
  },
  {
   "cell_type": "markdown",
   "id": "2d2aee69-4cb3-4ffe-a9f8-6d04628e981d",
   "metadata": {},
   "source": [
    "## 3.Accpet the any city from the user and display th monuments of that city"
   ]
  },
  {
   "cell_type": "code",
   "execution_count": 6,
   "id": "9d00f47d-6a83-4c39-89c7-1415587fb30c",
   "metadata": {},
   "outputs": [
    {
     "name": "stdin",
     "output_type": "stream",
     "text": [
      "Enter a city :  Delhi\n"
     ]
    },
    {
     "name": "stdout",
     "output_type": "stream",
     "text": [
      "Red Fort\n"
     ]
    }
   ],
   "source": [
    "city = input(\"Enter a city : \")\n",
    "if city == \"Delhi\":\n",
    "    print(\"Red Fort\")\n",
    "elif city == \"Agra\":\n",
    "    print(\"Taj Mahal\")\n",
    "elif city == \"Jaipur\":\n",
    "    print(\"jai Mahal\")\n",
    "else:\n",
    "    print(\"No monuments\")\n",
    "    \n",
    "    \n",
    "    "
   ]
  },
  {
   "cell_type": "markdown",
   "id": "9359fb6c-8187-4999-9107-3b9591a7fc35",
   "metadata": {},
   "source": [
    "## 4. Check how many times a given number can be divided by 3 before is less than or equal to 10"
   ]
  },
  {
   "cell_type": "code",
   "execution_count": null,
   "id": "d0ea5f91-def7-4be4-86a5-c8aca96da995",
   "metadata": {},
   "outputs": [],
   "source": [
    "number = int(input(\"Enter a number: \"))\n",
    "count = 0\n",
    "while number>10:\n",
    "    number=number/3\n",
    "    count+=1\n",
    "print(count)\n",
    "    "
   ]
  },
  {
   "cell_type": "markdown",
   "id": "bffcdc69-ed44-43fe-91a1-1ef69b83b1f8",
   "metadata": {},
   "source": [
    "## 5. Why and When to use while loop in python give detail description with example."
   ]
  },
  {
   "cell_type": "markdown",
   "id": "0e6a0a2d-4c25-49db-aa78-833629c816fa",
   "metadata": {},
   "source": [
    "#### Python while loop is used to run a block code until a certain condition is met.\n",
    "#### syntex:\n",
    "    while condition:\n",
    "    # body of while loop\n",
    "    \n",
    "#### 1. A while loop evaluates the condition\n",
    "#### 2.If the condition evaluates to True, the code inside the while loop is executed.\n",
    "#### 3.condition is evaluated again.\n",
    "#### 4.This process continues until the condition is False.\n",
    "#### 5.When condition evaluates to False, the loop stops.\n",
    "    "
   ]
  },
  {
   "cell_type": "code",
   "execution_count": 3,
   "id": "e1ff627e-a50a-4449-a29e-5fc5f753bbe0",
   "metadata": {},
   "outputs": [
    {
     "name": "stdout",
     "output_type": "stream",
     "text": [
      "1 2 3 4 5 "
     ]
    }
   ],
   "source": [
    "# Example:\n",
    "# program to display numbers from 1 to 5\n",
    "\n",
    "# initialize the variable\n",
    "i = 1\n",
    "n = 5\n",
    "\n",
    "# while loop from i = 1 to 5\n",
    "while i <= n:\n",
    "    print(i,end=\" \")\n",
    "    i = i + 1\n"
   ]
  },
  {
   "cell_type": "markdown",
   "id": "246c6990-f42b-4953-bfa6-99e05c0fcf98",
   "metadata": {},
   "source": [
    "## 6. Use nested while loop to print to differnt pattern."
   ]
  },
  {
   "cell_type": "code",
   "execution_count": 13,
   "id": "a4fd611c-a9ee-4576-a3b6-2ad0ccc8cbee",
   "metadata": {},
   "outputs": [
    {
     "name": "stdout",
     "output_type": "stream",
     "text": [
      "1 \n",
      "1 2 \n",
      "1 2 3 \n",
      "1 2 3 4 \n",
      "1 2 3 4 5 \n"
     ]
    }
   ],
   "source": [
    "i=1\n",
    "while i<=5:\n",
    "    j=1\n",
    "    while j<=i:\n",
    "        print(j,end=\" \")\n",
    "        j=j+1\n",
    "    print(\"\")\n",
    "    i=i+1"
   ]
  },
  {
   "cell_type": "code",
   "execution_count": 14,
   "id": "07f5741e-71c5-466b-8077-8514e8854f7e",
   "metadata": {},
   "outputs": [
    {
     "name": "stdout",
     "output_type": "stream",
     "text": [
      "* \n",
      "* * \n",
      "* * * \n",
      "* * * * \n",
      "* * * * * \n"
     ]
    }
   ],
   "source": [
    "i = 1\n",
    "while i <= n :\n",
    "    j = 1\n",
    "    while j <= i:\n",
    "        print(\"*\", end = \" \")\n",
    "        j += 1\n",
    "    print()\n",
    "    i += 1"
   ]
  },
  {
   "cell_type": "code",
   "execution_count": 15,
   "id": "db380495-4b04-4242-9eae-34d17d06993a",
   "metadata": {},
   "outputs": [
    {
     "name": "stdout",
     "output_type": "stream",
     "text": [
      "* * * * * \n",
      "* * * * \n",
      "* * * \n",
      "* * \n",
      "* \n"
     ]
    }
   ],
   "source": [
    "i = 1\n",
    "while i <= n :\n",
    "    j = n\n",
    "    while j >= i:\n",
    "        print(\"*\", end = \" \")\n",
    "        j -= 1\n",
    "    print()\n",
    "    i += 1"
   ]
  },
  {
   "cell_type": "markdown",
   "id": "68e636c6-1078-4038-8420-39a47dae18c8",
   "metadata": {},
   "source": [
    "## 7. Reverse a while loop and display number from 10 to 1."
   ]
  },
  {
   "cell_type": "code",
   "execution_count": 12,
   "id": "06bfc357-dbbc-4d8f-8e24-27ed10189e97",
   "metadata": {},
   "outputs": [
    {
     "name": "stdout",
     "output_type": "stream",
     "text": [
      "10 9 8 7 6 5 4 3 2 1 "
     ]
    }
   ],
   "source": [
    "i = 10\n",
    "while i > 0:\n",
    "    print(i, end=\" \")\n",
    "    i = i-1\n",
    "    "
   ]
  },
  {
   "cell_type": "code",
   "execution_count": null,
   "id": "bb3d82fe-8ead-43ee-9ee4-05efb16c684d",
   "metadata": {},
   "outputs": [],
   "source": []
  }
 ],
 "metadata": {
  "kernelspec": {
   "display_name": "Python 3 (ipykernel)",
   "language": "python",
   "name": "python3"
  },
  "language_info": {
   "codemirror_mode": {
    "name": "ipython",
    "version": 3
   },
   "file_extension": ".py",
   "mimetype": "text/x-python",
   "name": "python",
   "nbconvert_exporter": "python",
   "pygments_lexer": "ipython3",
   "version": "3.10.8"
  }
 },
 "nbformat": 4,
 "nbformat_minor": 5
}
