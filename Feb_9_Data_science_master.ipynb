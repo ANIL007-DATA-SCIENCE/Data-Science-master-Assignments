{
 "cells": [
  {
   "cell_type": "markdown",
   "id": "a13f3733-f54c-4de0-945b-8405850cd220",
   "metadata": {},
   "source": [
    "# Feb_9_Data_science_master_Assignment"
   ]
  },
  {
   "cell_type": "code",
   "execution_count": null,
   "id": "c05dd953-0e42-4f5a-a329-bd728d6b33ea",
   "metadata": {},
   "outputs": [],
   "source": [
    "1) Create a vehicle class with an init method having instance variables as name_of_vehicle, max_speed\n",
    "and average_of_vehicle."
   ]
  },
  {
   "cell_type": "code",
   "execution_count": 1,
   "id": "f1f59fa6-3d8b-43fc-a17a-0d8dd20ea1d1",
   "metadata": {},
   "outputs": [],
   "source": [
    "class Vehicle:\n",
    "    def __init__(self, name_of_vehicle, max_speed, average_of_vehicle):\n",
    "        self.name_of_vehicle = name_of_vehicle\n",
    "        self.max_speed = max_speed\n",
    "        self.average_of_vehicle = average_of_vehicle"
   ]
  },
  {
   "cell_type": "code",
   "execution_count": 2,
   "id": "fede9faa-12a9-4640-af2c-48fcbac05de0",
   "metadata": {},
   "outputs": [],
   "source": [
    "car = Vehicle(\"Toyota Camry\", 120, 35)"
   ]
  },
  {
   "cell_type": "code",
   "execution_count": 4,
   "id": "406a3a18-9bed-4f0e-bb62-f6891bcd5650",
   "metadata": {},
   "outputs": [
    {
     "data": {
      "text/plain": [
       "35"
      ]
     },
     "execution_count": 4,
     "metadata": {},
     "output_type": "execute_result"
    }
   ],
   "source": [
    "car.average_of_vehicle"
   ]
  },
  {
   "cell_type": "code",
   "execution_count": 5,
   "id": "879df33e-e4f4-42c5-9f4f-6c8b93632aba",
   "metadata": {},
   "outputs": [
    {
     "data": {
      "text/plain": [
       "120"
      ]
     },
     "execution_count": 5,
     "metadata": {},
     "output_type": "execute_result"
    }
   ],
   "source": [
    "car.max_speed"
   ]
  },
  {
   "cell_type": "code",
   "execution_count": 6,
   "id": "a36a9fee-56cc-4716-96fb-da05b7ba0029",
   "metadata": {},
   "outputs": [
    {
     "data": {
      "text/plain": [
       "'Toyota Camry'"
      ]
     },
     "execution_count": 6,
     "metadata": {},
     "output_type": "execute_result"
    }
   ],
   "source": [
    "car.name_of_vehicle"
   ]
  },
  {
   "cell_type": "code",
   "execution_count": null,
   "id": "acd24337-b7d8-420d-9393-baf1e9d57153",
   "metadata": {},
   "outputs": [],
   "source": []
  },
  {
   "cell_type": "markdown",
   "id": "2951cc37-e6cb-49bb-9798-26d2f00ac1f9",
   "metadata": {},
   "source": [
    "2) Create a child class car from the vehicle class created in Que 1, which will inherit the vehicle class.\n",
    "Create a method named seating_capacity which takes capacity as an argument and returns the name of\n",
    "the vehicle and its seating capacity."
   ]
  },
  {
   "cell_type": "code",
   "execution_count": 22,
   "id": "a4a0a754-a00e-4597-8cca-786889dd9a53",
   "metadata": {},
   "outputs": [],
   "source": [
    "class Car(Vehicle):\n",
    "    def __init__(self, name_of_vehicle, max_speed, average_of_vehicle):\n",
    "        self.name_of_vehicle = name_of_vehicle\n",
    "        self.max_speed = max_speed\n",
    "        self.average_of_vehicle = average_of_vehicle\n",
    "\n",
    "    def seating_capacity(self, capacity):\n",
    "        return f\"{self.name_of_vehicle} has a seating capacity of {capacity} persons.\"\n"
   ]
  },
  {
   "cell_type": "code",
   "execution_count": 23,
   "id": "921d67cf-6e8a-40fa-ae69-f3088fa0057b",
   "metadata": {},
   "outputs": [
    {
     "name": "stdout",
     "output_type": "stream",
     "text": [
      "Toyota Camry has a seating capacity of 5 persons.\n"
     ]
    }
   ],
   "source": [
    "car = Car(\"Toyota Camry\", 120, 35)\n",
    "print(car.seating_capacity(5))"
   ]
  },
  {
   "cell_type": "code",
   "execution_count": 24,
   "id": "a6a8e05a-d243-4be7-bea6-3128e409f5e2",
   "metadata": {},
   "outputs": [
    {
     "name": "stdout",
     "output_type": "stream",
     "text": [
      "audi has a seating capacity of 4 persons.\n"
     ]
    }
   ],
   "source": [
    "car = Car(\"audi\",150,44)\n",
    "print(car.seating_capacity(4))"
   ]
  },
  {
   "cell_type": "code",
   "execution_count": null,
   "id": "12517866-6f3a-462d-98db-d774174db718",
   "metadata": {},
   "outputs": [],
   "source": []
  },
  {
   "cell_type": "markdown",
   "id": "bf3af96a-e789-43e4-a0b6-6be13dbee4f4",
   "metadata": {},
   "source": [
    "3) What is multiple inheritance? Write a python code to demonstrate multiple inheritance."
   ]
  },
  {
   "cell_type": "markdown",
   "id": "1b37df59-9770-4e53-a52c-a63b0d83769c",
   "metadata": {},
   "source": [
    " Multiple inheritance is a child class can have access to the properties and methods of multiple parent classes."
   ]
  },
  {
   "cell_type": "code",
   "execution_count": 14,
   "id": "961b494b-04a7-49d2-9c36-8f1c2dc68e3b",
   "metadata": {},
   "outputs": [],
   "source": [
    "# Example\n",
    "class A:\n",
    "    def method_a(self):\n",
    "        print(\"Method A\")\n",
    "\n",
    "class B:\n",
    "    def method_b(self):\n",
    "        print(\"Method B\")\n",
    "\n",
    "class C(A, B):\n",
    "    pass"
   ]
  },
  {
   "cell_type": "code",
   "execution_count": 18,
   "id": "5f43a587-3692-4ece-ae9f-962c1b137d78",
   "metadata": {},
   "outputs": [],
   "source": [
    "obj_c = C()"
   ]
  },
  {
   "cell_type": "code",
   "execution_count": 19,
   "id": "a3dcf57a-33f1-49a0-a2c1-078c35e58616",
   "metadata": {},
   "outputs": [
    {
     "name": "stdout",
     "output_type": "stream",
     "text": [
      "Method A\n"
     ]
    }
   ],
   "source": [
    "obj_c.method_a()"
   ]
  },
  {
   "cell_type": "code",
   "execution_count": 20,
   "id": "60b87a93-ac32-4e97-9544-a58cd7ad4ae0",
   "metadata": {},
   "outputs": [
    {
     "name": "stdout",
     "output_type": "stream",
     "text": [
      "Method B\n"
     ]
    }
   ],
   "source": [
    "obj_c.method_b()"
   ]
  },
  {
   "cell_type": "code",
   "execution_count": null,
   "id": "855594c2-ea24-466c-9d52-3a93d4425613",
   "metadata": {},
   "outputs": [],
   "source": []
  },
  {
   "cell_type": "code",
   "execution_count": null,
   "id": "3851f2d6-d4a7-4d8b-99c3-018413eb796d",
   "metadata": {},
   "outputs": [],
   "source": [
    "4) What are getter and setter in python? Create a class and create a getter and a setter method in this\n",
    "class."
   ]
  },
  {
   "cell_type": "code",
   "execution_count": null,
   "id": "3317efd5-d269-4b33-bfc1-3fbc50811276",
   "metadata": {},
   "outputs": [],
   "source": [
    "setter and getter method provide acces to private members of class and set and get the attribute values."
   ]
  },
  {
   "cell_type": "code",
   "execution_count": 2,
   "id": "2eb3d892-adda-4523-8063-3eabb1e97784",
   "metadata": {},
   "outputs": [
    {
     "name": "stdout",
     "output_type": "stream",
     "text": [
      "19\n",
      "19\n"
     ]
    }
   ],
   "source": [
    "class pwskills:   \n",
    "    def __init__(self, age = 0):   \n",
    "         self._age = age   \n",
    "      # using the getter method   \n",
    "    def get_age(self):   \n",
    "        return self._age   \n",
    "      # using the setter method   \n",
    "    def set_age(self, a):   \n",
    "        self._age = a   \n",
    "    \n",
    "John = pwskills()   \n",
    "    \n",
    "#using the setter function  \n",
    "John.set_age(19)   \n",
    "    \n",
    "# using the getter function  \n",
    "print(John.get_age())   \n",
    "    \n",
    "print(John._age)  "
   ]
  },
  {
   "cell_type": "markdown",
   "id": "e9a2561a-a4cb-481c-940c-65c9361d5d24",
   "metadata": {},
   "source": [
    "5)What is method overriding in python? Write a python code to demonstrate method overriding."
   ]
  },
  {
   "cell_type": "markdown",
   "id": "db1761bb-3636-4591-9b0c-dc6fe0627d19",
   "metadata": {},
   "source": [
    "--> Method overriding is a subclass provides its own implementation of a method that is already defined in its parent class. The method in the subclass must have the same name, parameters, and return type as the method in the parent class."
   ]
  },
  {
   "cell_type": "code",
   "execution_count": null,
   "id": "a3ac5f76-8d59-4487-9b97-41d8562c3617",
   "metadata": {},
   "outputs": [],
   "source": [
    "# example \n",
    "class Animal:\n",
    "    def make_sound(self):\n",
    "        print(\"The animal makes a sound.\")\n",
    "\n",
    "class Cat(Animal):\n",
    "    def make_sound(self):\n",
    "        print(\"Meow!\")\n",
    "\n",
    "class Dog(Animal):\n",
    "    def make_sound(self):\n",
    "        print(\"Woof!\")"
   ]
  },
  {
   "cell_type": "code",
   "execution_count": null,
   "id": "1060de7d-e5b7-4013-b155-b540cfce6b5f",
   "metadata": {},
   "outputs": [],
   "source": [
    "animal = Animal()"
   ]
  },
  {
   "cell_type": "code",
   "execution_count": null,
   "id": "325a229c-37a2-478a-8d44-9cbaaac510ee",
   "metadata": {},
   "outputs": [],
   "source": [
    "animal.make_sound()"
   ]
  },
  {
   "cell_type": "code",
   "execution_count": null,
   "id": "6d227884-8d28-4965-b6a9-1c1350f4cb50",
   "metadata": {},
   "outputs": [],
   "source": [
    "cat = Cat()"
   ]
  },
  {
   "cell_type": "code",
   "execution_count": null,
   "id": "d6602496-34b9-4e91-bfc0-80641d546b62",
   "metadata": {},
   "outputs": [],
   "source": [
    "cat.make_sound() "
   ]
  },
  {
   "cell_type": "code",
   "execution_count": null,
   "id": "836f0a45-d60f-43df-8bf9-52b15ede7e3b",
   "metadata": {},
   "outputs": [],
   "source": [
    "dog = Dog()"
   ]
  },
  {
   "cell_type": "code",
   "execution_count": null,
   "id": "2e0d55b3-2d65-41e4-9a68-25ea5d76d601",
   "metadata": {},
   "outputs": [],
   "source": [
    "dog.make_sound() "
   ]
  }
 ],
 "metadata": {
  "kernelspec": {
   "display_name": "Python 3 (ipykernel)",
   "language": "python",
   "name": "python3"
  },
  "language_info": {
   "codemirror_mode": {
    "name": "ipython",
    "version": 3
   },
   "file_extension": ".py",
   "mimetype": "text/x-python",
   "name": "python",
   "nbconvert_exporter": "python",
   "pygments_lexer": "ipython3",
   "version": "3.10.8"
  }
 },
 "nbformat": 4,
 "nbformat_minor": 5
}
