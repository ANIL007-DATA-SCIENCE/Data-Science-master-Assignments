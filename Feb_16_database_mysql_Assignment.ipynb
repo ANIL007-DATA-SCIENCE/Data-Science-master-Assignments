{
 "cells": [
  {
   "cell_type": "markdown",
   "id": "d223de02-baa2-4b07-8cca-85bf1eb17db8",
   "metadata": {},
   "source": [
    "# Feb_16_database_mysql_Assignment"
   ]
  },
  {
   "cell_type": "code",
   "execution_count": null,
   "id": "ddcbcade-b173-471e-9846-2a1a5133b92c",
   "metadata": {},
   "outputs": [],
   "source": [
    "Q1. What is a database? Differentiate between SQL and NoSQL databases.\n",
    "\n",
    "--> database is a place or medium for organising and storing data in a well structured manner.\n",
    "\n",
    "         Structured query Language(SQL)                                                Not only Structured query Language(NOSQL)\n",
    "    \n",
    " a.RELATIONAL DATABASE MANAGEMENT SYSTEM (RDBMS)\t                                a.Non-relational or distributed database system.\n",
    " b.These databases have fixed or static or predefined schema\t                    b.They have dynamic schema\n",
    " c.These databases are not suited for hierarchical data storage.\t                c.These databases are best suited for hierarchical \n",
    "                                                                                        data storage.\n",
    " d.These databases are best suited for complex queries\t                            d.These databases are not so good for complex queries\n",
    " e.Vertically Scalable\t                                                            e.Horizontally scalable\n",
    " f.Follows ACID property\t                                                        f.Follows CAP(consistency, availability, partition tolerance)\n",
    " g.Examples: MySQL, PostgreSQL, Oracle, MS-SQL Server, etc\t                        g.Examples: MongoDB, GraphQL, HBase, Neo4j, Cassandra, etc"
   ]
  },
  {
   "cell_type": "code",
   "execution_count": null,
   "id": "02c573d8-18a6-4aa8-b55e-11e10bc553f4",
   "metadata": {},
   "outputs": [],
   "source": []
  },
  {
   "cell_type": "code",
   "execution_count": null,
   "id": "30f28f54-045a-4981-8397-edd7f1afcf5f",
   "metadata": {},
   "outputs": [],
   "source": [
    "Q2. What is DDL? Explain why CREATE, DROP, ALTER, and TRUNCATE are used with an example.\n",
    "\n",
    "--> Data Defination Language(DDL):\n",
    "         It is used to define the database schema and structure\n",
    "        \n",
    "1.CREATE: \n",
    "    The CREATE command is used to create a new table or database.\n",
    "    \n",
    "    # Example\n",
    "    CREATE TABLE Employee(name VARCHAR(50),ID INT,LOCATION VARCHAR(50));\n",
    "    \n",
    "2.DROP:\n",
    "    The DROP command is used to delete a table or database. \n",
    "    \n",
    "    #Example\n",
    "    DROP Employee;\n",
    "    \n",
    "3.ALTER:\n",
    "    The ALTER command is used to modify the structure of an existing table.\n",
    "    \n",
    "    #Example\n",
    "    ALTER TABLE employee\n",
    "    ADD COLUMN salary DECIMAL(10,2);\n",
    "    \n",
    "4.TRUNCATE:\n",
    "    The TRUNCATE command is used to remove all rows from a table.\n",
    "    \n",
    "    #Example\n",
    "    TRUNCATE TABLE Employee;\n"
   ]
  },
  {
   "cell_type": "code",
   "execution_count": null,
   "id": "14306ba3-e3a5-4ece-936c-81b26fb03360",
   "metadata": {},
   "outputs": [],
   "source": []
  },
  {
   "cell_type": "code",
   "execution_count": null,
   "id": "184216af-0c6b-40b9-b46e-2a5b3356f22e",
   "metadata": {},
   "outputs": [],
   "source": [
    "Q3. What is DML? Explain INSERT, UPDATE, and DELETE with an example.\n",
    "\n",
    "-->Data Manipulation Language(DML):\n",
    "       It is used to manipulate data stored in the database.\n",
    "        \n",
    "a. INSERT :\n",
    "    INSERT: The INSERT command is used to insert new data into a table.\n",
    "    \n",
    "    #Example \n",
    "    INSERT INTO employees (name, ID, LOCATION,salary)\n",
    "    VALUES ('John Doe', 101, Beng,10000);\n",
    "    \n",
    "b. UPDATE :\n",
    "     The UPDATE command is used to modify existing data in a table. \n",
    "        \n",
    "    #Example\n",
    "    UPDATE employees\n",
    "    SET salary = 60000.00\n",
    "    WHERE id = 101;\n",
    "\n",
    "c.DELETE:\n",
    "    The DELETE command is used to delete existing data from a table.\n",
    "    \n",
    "    #Example\n",
    "    DELETE FROM employees\n",
    "    WHERE id = 101;\n"
   ]
  },
  {
   "cell_type": "code",
   "execution_count": null,
   "id": "f8a6a814-ed30-41ff-be67-109cc82dd5b7",
   "metadata": {},
   "outputs": [],
   "source": []
  },
  {
   "cell_type": "code",
   "execution_count": null,
   "id": "5865f544-e9fd-40af-8a27-d13ece689661",
   "metadata": {},
   "outputs": [],
   "source": [
    "Q4. What is DQL? Explain SELECT with an example.\n",
    "\n",
    "---> Data Query Language(DQL):\n",
    "        It is used to query data from the database. \n",
    "\n",
    "SELECT: \n",
    "    The SELECT command is used to query data from a table.\n",
    "    \n",
    "    #Example\n",
    "    SELECT * FROM Employee;"
   ]
  },
  {
   "cell_type": "code",
   "execution_count": null,
   "id": "e8b739fb-814d-4056-8fb4-e39dfc806cee",
   "metadata": {},
   "outputs": [],
   "source": []
  },
  {
   "cell_type": "code",
   "execution_count": null,
   "id": "29b44356-ced9-4d4f-97f2-4538c9175975",
   "metadata": {},
   "outputs": [],
   "source": [
    "Q5. Explain Primary Key and Foreign Key.\n",
    "\n",
    "-->\n",
    "1) Primary Key:\n",
    "    a. A primary key is a unique identifier for a record in a table. \n",
    "    b.It is a column or a combination of columns that uniquely identifies each row in the table. \n",
    "    c.A primary key cannot contain null values, and there can be only one primary key per table. \n",
    "    d.For example, in the \"employees\" table, the \"id\" column is the primary key.\n",
    "\n",
    "2) Foreign Key: \n",
    "    a.A foreign key is a column or a combination of columns in one table that refers to the primary key of another table. \n",
    "    b.It is used to establish a relationship between two tables. \n",
    "    c.For example, in a \"orders\" table, the \"customer_id\" column could be a foreign key that refers to the \"id\" column of the \"customers\" table."
   ]
  },
  {
   "cell_type": "code",
   "execution_count": null,
   "id": "94e32a08-a00b-4905-9160-e15597953ae5",
   "metadata": {},
   "outputs": [],
   "source": []
  },
  {
   "cell_type": "code",
   "execution_count": null,
   "id": "0597aacc-c137-4e8d-bdcb-f6e44a273d45",
   "metadata": {},
   "outputs": [],
   "source": [
    "Q6. Write a python code to connect MySQL to python. Explain the cursor() and execute() method.\n",
    "\n",
    "--> \n",
    "    # python code\n",
    "    \n",
    "import mysql.connector\n",
    "data_base = mysql.connector.connect(\n",
    "    host = \"XYZ\",\n",
    "    user = \"XYZ\",\n",
    "    password = \"XYZ\"\n",
    ")\n",
    "print(data_base)\n",
    "mycursor = data_base.cursor()\n",
    "mycursor.execute(\"SHOW DATABASES\")\n",
    "for i in mycursor:\n",
    "    print(i)\n",
    "    \n",
    "    \n",
    "a.cursor():\n",
    "     when we execute SQL statements against a database using a database driver, the driver provides us with a cursor object that we \n",
    "    can use to interact with the database. The cursor object acts as a pointer to a specific row in a result set and allows us to execute SQL queries, fetch results, and modify data in the database.\n",
    "    \n",
    "\n",
    "b.execute():\n",
    "    The execute() method is used to execute SQL queries\n",
    "    \n"
   ]
  },
  {
   "cell_type": "code",
   "execution_count": null,
   "id": "7294c838-ccba-4855-a866-daf5c745885c",
   "metadata": {},
   "outputs": [],
   "source": []
  },
  {
   "cell_type": "code",
   "execution_count": null,
   "id": "63058971-44b8-41c4-a084-6896af736597",
   "metadata": {},
   "outputs": [],
   "source": [
    "Q7. Give the order of execution of SQL clauses in an SQL query.\n",
    "-->\n",
    "\n",
    " The order of execution of SQL clauses in a SQL query :\n",
    "a.FROM: Specifies the tables from which the data will be retrieved.\n",
    "b.JOIN: Specifies how the tables are related to each other.\n",
    "c.WHERE: Filters the rows based on a condition.\n",
    "d.GROUP BY: Groups the rows based on a column or a set of columns.\n",
    "e.HAVING: Filters the groups based on a condition.\n",
    "f.SELECT: Selects the columns to be returned in the result set.\n",
    "g.ORDER BY: Sorts the result set based on a column or a set of columns.\n",
    "h.LIMIT: Limits the number of rows returned in the result set."
   ]
  }
 ],
 "metadata": {
  "kernelspec": {
   "display_name": "Python 3 (ipykernel)",
   "language": "python",
   "name": "python3"
  },
  "language_info": {
   "codemirror_mode": {
    "name": "ipython",
    "version": 3
   },
   "file_extension": ".py",
   "mimetype": "text/x-python",
   "name": "python",
   "nbconvert_exporter": "python",
   "pygments_lexer": "ipython3",
   "version": "3.10.8"
  }
 },
 "nbformat": 4,
 "nbformat_minor": 5
}
