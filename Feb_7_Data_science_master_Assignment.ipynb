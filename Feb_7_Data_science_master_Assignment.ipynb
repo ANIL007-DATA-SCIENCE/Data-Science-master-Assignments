{
 "cells": [
  {
   "cell_type": "code",
   "execution_count": null,
   "id": "b7e94480-9171-4916-afdc-67cf5865d557",
   "metadata": {},
   "outputs": [],
   "source": [
    "Feb_7_Data_science_master_Assignment"
   ]
  },
  {
   "cell_type": "code",
   "execution_count": null,
   "id": "5aac3ee0-970a-4647-a5c5-0c4c4e6fc6c1",
   "metadata": {},
   "outputs": [],
   "source": [
    "1) You are writing code for a company. The requirement of the company is that you create a python\n",
    "function that will check whether the password entered by the user is correct or not. The function should\n",
    "take the password as input and return the string “Valid Password” if the entered password follows the\n",
    "below-given password guidelines else it should return “Invalid Password”.\n",
    "Note: 1. The Password should contain at least two uppercase letters and at least two lowercase letters.\n",
    "2. The Password should contain at least a number and three special characters.\n",
    "3. The length of the password should be 10 characters long."
   ]
  },
  {
   "cell_type": "code",
   "execution_count": 38,
   "id": "6a6d2b43-e59f-4dcb-b830-084e88875921",
   "metadata": {},
   "outputs": [],
   "source": [
    "import re\n",
    "\n",
    "def check_password(password):\n",
    "    # Check if the password has at least 10 characters\n",
    "    if len(password) < 10:\n",
    "        return \"Invalid Password: The password should be at least 10 characters long.\"\n",
    "    \n",
    "    # Check if the password has at least 2 uppercase letters and 2 lowercase letters\n",
    "    if len(re.findall(r'[A-Z]', password)) < 2 or len(re.findall(r'[a-z]', password)) < 2:\n",
    "        return \"Invalid Password: The password should have at least 2 uppercase letters and 2 lowercase letters.\"\n",
    "    \n",
    "    # Check if the password has at least a number and 3 special characters\n",
    "    if len(re.findall(r'\\d', password)) < 1 or len(re.findall(r'[!@#$%^&*()\\-+]', password)) < 3:\n",
    "        return \"Invalid Password: The password should have at least a number and 3 special characters.\"\n",
    "    \n",
    "    # If the password meets all the guidelines, return \"Valid Password\"\n",
    "    return \"Valid Password:  contains all guidelines\"\n"
   ]
  },
  {
   "cell_type": "code",
   "execution_count": 37,
   "id": "e226b578-923b-48cf-87d4-54b16ca5ef07",
   "metadata": {},
   "outputs": [
    {
     "name": "stdout",
     "output_type": "stream",
     "text": [
      "Valid Password contains all guidelines\n",
      "Invalid Password: The password should have at least 2 uppercase letters and 2 lowercase letters.\n",
      "Invalid Password: The password should be at least 10 characters long.\n",
      "Valid Password contains all guidelines\n"
     ]
    }
   ],
   "source": [
    "password1 = \"ABc123!@#z\"\n",
    "password2 = \"aBc123!@#z\"\n",
    "password3 = \"Abc123z\"\n",
    "password4 = \"Abc256D@*#\"\n",
    "\n",
    "print(check_password(password1)) \n",
    "print(check_password(password2)) \n",
    "print(check_password(password3))\n",
    "print(check_password(password4))"
   ]
  },
  {
   "cell_type": "code",
   "execution_count": null,
   "id": "fa34ea2c-090b-4846-a7ed-eaa89b2beca1",
   "metadata": {},
   "outputs": [],
   "source": []
  },
  {
   "cell_type": "code",
   "execution_count": null,
   "id": "74bcbad4-a0ff-4fd9-a5a9-c8c9cc4d7f7d",
   "metadata": {},
   "outputs": [],
   "source": [
    "2) Solve the below-given questions using at least one of the following:\n",
    "1. Lambda functioJ\n",
    "2. Filter functioJ\n",
    "3. Zap functioJ\n",
    "4. List ComprehensioI\n",
    "B Check if the string starts with a particular letter.\n",
    "B Check if the string is numeric.\n",
    "B Sort a list of tuples having fruit names and their quantity. [(\"mango\",99),(\"orange\",80), (\"grapes\", 1000)].\n",
    "B Find the squares of numbers from 1 to 10.\n",
    "B Find the cube root of numbers from 1 to 10.\n",
    "B Check if a given number is even.\n",
    "B Filter odd numbers from the given list.\n",
    "[1,2,3,4,5,6,7,8,9,10\n",
    "B Sort a list of integers into positive and negative integers lists.\n",
    "[1,2,3,4,5,6,-1,-2,-3,-4,-5,0]"
   ]
  },
  {
   "cell_type": "code",
   "execution_count": 1,
   "id": "74b6603b-5f40-4a0f-a0e3-46cac158ddf1",
   "metadata": {},
   "outputs": [
    {
     "name": "stdout",
     "output_type": "stream",
     "text": [
      "['banana']\n"
     ]
    }
   ],
   "source": [
    "# Check if the string starts with a particular letter.\n",
    "string_list = [\"apple\", \"banana\", \"orange\", \"grapes\", \"pear\"]\n",
    "letter = \"b\"\n",
    "result = list(filter(lambda x : x.startswith(letter),string_list))\n",
    "print(result)"
   ]
  },
  {
   "cell_type": "code",
   "execution_count": 3,
   "id": "f258d94a-98d1-41e5-a589-ba02316a5a55",
   "metadata": {},
   "outputs": [
    {
     "name": "stdout",
     "output_type": "stream",
     "text": [
      "['12', '100', '4']\n"
     ]
    }
   ],
   "source": [
    " # Check if the string is numeric.\n",
    "string_list = [\"12\", \"3.14\", \"100\", \"xyz\", \"4\"]\n",
    "result = list(filter(lambda x: x.isnumeric(), string_list))\n",
    "print(result)"
   ]
  },
  {
   "cell_type": "code",
   "execution_count": 6,
   "id": "9e7e19ea-79a1-4097-b9f5-48d77f4be9e6",
   "metadata": {},
   "outputs": [
    {
     "name": "stdout",
     "output_type": "stream",
     "text": [
      "[('orange', 80), ('mango', 99), ('grapes', 1000)]\n"
     ]
    }
   ],
   "source": [
    "# Sort a list of tuples having fruit names and their quantity. [(\"mango\",99),(\"orange\",80), (\"grapes\", 1000)]\n",
    "fruits_list =  [(\"mango\",99),(\"orange\",80), (\"grapes\", 1000)]\n",
    "sort = sorted(fruits_list, key=lambda x:x[-1])\n",
    "print(sort)"
   ]
  },
  {
   "cell_type": "code",
   "execution_count": 9,
   "id": "f407ce58-856b-4c01-a323-e408123a29cd",
   "metadata": {},
   "outputs": [
    {
     "name": "stdout",
     "output_type": "stream",
     "text": [
      "[1, 4, 9, 16, 25, 36, 49, 64, 81, 100]\n"
     ]
    }
   ],
   "source": [
    " # Find the squares of numbers from 1 to 10.\n",
    "squre_numbers = [x**2 for x in range(1,11)]\n",
    "print(squre_numbers)"
   ]
  },
  {
   "cell_type": "code",
   "execution_count": 11,
   "id": "4dd6a619-0379-4920-8dea-0c3bfb40f21a",
   "metadata": {},
   "outputs": [
    {
     "name": "stdout",
     "output_type": "stream",
     "text": [
      "[1.0, 1.26, 1.44, 1.59, 1.71, 1.82, 1.91, 2.0, 2.08, 2.15]\n"
     ]
    }
   ],
   "source": [
    "#  Find the cube root of numbers from 1 to 10.\n",
    "import math\n",
    "cubes = list(map(lambda x: round(math.pow(x, 1/3), 2), range(1, 11)))\n",
    "print(cubes)  \n"
   ]
  },
  {
   "cell_type": "code",
   "execution_count": 14,
   "id": "ae99eabf-c2b1-441f-a952-306700fe8bc2",
   "metadata": {},
   "outputs": [
    {
     "name": "stdout",
     "output_type": "stream",
     "text": [
      "True\n"
     ]
    }
   ],
   "source": [
    "#  Check if a given number is even.\n",
    "num = 4\n",
    "is_even = lambda x : x%2==0\n",
    "print(is_even(num))"
   ]
  },
  {
   "cell_type": "code",
   "execution_count": 15,
   "id": "be2f7bc8-53b1-4d38-92cd-ade202902647",
   "metadata": {},
   "outputs": [
    {
     "name": "stdout",
     "output_type": "stream",
     "text": [
      "[1, 3, 5, 7, 9]\n"
     ]
    }
   ],
   "source": [
    "# Filter odd numbers from the given list.\n",
    "num_list = [1, 2, 3, 4, 5, 6, 7, 8, 9, 10]\n",
    "odd_numbers = list(filter(lambda x : x%2!=0,num_list))\n",
    "print(odd_numbers)"
   ]
  },
  {
   "cell_type": "code",
   "execution_count": 16,
   "id": "72eaa5cd-dd9e-4035-84a0-be2e86ecf8df",
   "metadata": {},
   "outputs": [
    {
     "name": "stdout",
     "output_type": "stream",
     "text": [
      "[1, 2, 3, 4, 5, 6]\n",
      "[-1, -2, -3, -4, -5]\n"
     ]
    }
   ],
   "source": [
    "# Sort a list of integers into positive and negative integers lists.\n",
    "num_list = [1, 2, 3, 4, 5, 6, -1, -2, -3, -4, -5, 0]\n",
    "positive_nums = [x for x in num_list if x > 0]\n",
    "negative_nums = [y for y in num_list if y < 0]\n",
    "print(positive_nums) \n",
    "print(negative_nums)  \n",
    "\n"
   ]
  },
  {
   "cell_type": "code",
   "execution_count": null,
   "id": "0c5d4f24-2e44-4268-9bec-c27ea6ea9b3b",
   "metadata": {},
   "outputs": [],
   "source": []
  }
 ],
 "metadata": {
  "kernelspec": {
   "display_name": "Python 3 (ipykernel)",
   "language": "python",
   "name": "python3"
  },
  "language_info": {
   "codemirror_mode": {
    "name": "ipython",
    "version": 3
   },
   "file_extension": ".py",
   "mimetype": "text/x-python",
   "name": "python",
   "nbconvert_exporter": "python",
   "pygments_lexer": "ipython3",
   "version": "3.10.8"
  }
 },
 "nbformat": 4,
 "nbformat_minor": 5
}
