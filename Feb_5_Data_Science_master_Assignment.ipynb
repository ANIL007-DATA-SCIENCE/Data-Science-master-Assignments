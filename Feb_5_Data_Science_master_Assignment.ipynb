{
 "cells": [
  {
   "cell_type": "markdown",
   "id": "bb01610c-e8f8-40e2-8255-c2bed95a71a7",
   "metadata": {},
   "source": [
    "# Day-8: Data Science master class Assignment"
   ]
  },
  {
   "cell_type": "code",
   "execution_count": null,
   "id": "ccb46190-a762-4948-af39-4099469b395a",
   "metadata": {},
   "outputs": [],
   "source": [
    "1) Explain Class and Object with respect to Object-Oriented Programming. Give a suitable example.\n",
    "\n",
    "--> class: class is a blueprint or template for creating objects, which are instances of that class. \n",
    "A class defines a set of attributes (data members) and methods (functions) that the objects created from it will have.\n",
    "--> object: object is a specific instance of a class. It is created based on the class's blueprint, \n",
    "and it has its own set of attributes and behaviors. \n",
    "Objects can interact with each other and with the program as a whole by calling methods and accessing or modifying their attributes."
   ]
  },
  {
   "cell_type": "code",
   "execution_count": 1,
   "id": "d62a6c69-f051-4a0e-9064-77f620ee7723",
   "metadata": {},
   "outputs": [
    {
     "name": "stdout",
     "output_type": "stream",
     "text": [
      "2022 Honda Civic (black)\n",
      "50\n",
      "40\n"
     ]
    }
   ],
   "source": [
    "class Car:\n",
    "    def __init__(self, make, model, year, color):\n",
    "        self.make = make\n",
    "        self.model = model\n",
    "        self.year = year\n",
    "        self.color = color\n",
    "        self.current_speed = 0\n",
    "\n",
    "    def accelerate(self, speed):\n",
    "        self.current_speed += speed\n",
    "\n",
    "    def brake(self, speed):\n",
    "        self.current_speed -= speed\n",
    "\n",
    "    def get_info(self):\n",
    "        return f'{self.year} {self.make} {self.model} ({self.color})'\n",
    "\n",
    "my_car = Car('Honda', 'Civic', 2022, 'black')\n",
    "print(my_car.get_info())  # output: \"2022 Honda Civic (black)\"\n",
    "my_car.accelerate(50)\n",
    "print(my_car.current_speed)  # output: 50\n",
    "my_car.brake(10)\n",
    "print(my_car.current_speed)  # output: 40"
   ]
  },
  {
   "cell_type": "code",
   "execution_count": null,
   "id": "00ac1e07-f8d2-40fe-b04a-004165174e1b",
   "metadata": {},
   "outputs": [],
   "source": []
  },
  {
   "cell_type": "code",
   "execution_count": null,
   "id": "fd93e310-2620-488f-8272-9868ff418982",
   "metadata": {},
   "outputs": [],
   "source": [
    "2) Name the four pillars of OOPs.\n",
    "-->abstraction \n",
    "   Polymorphism\n",
    "   Inheritance\n",
    "   Encapsulation\n",
    "   \n",
    "    "
   ]
  },
  {
   "cell_type": "code",
   "execution_count": null,
   "id": "e67ea8ae-3e61-4bab-8cbe-01c62532ced7",
   "metadata": {},
   "outputs": [],
   "source": []
  },
  {
   "cell_type": "code",
   "execution_count": null,
   "id": "60df2a54-bfd6-448f-87f0-ab27a96b3c5f",
   "metadata": {},
   "outputs": [],
   "source": [
    "3) Explain why the __init__() function is used. Give a suitable example.\n",
    "\n",
    "--> The __init__() function is a special method in Python that is called automatically when an object is created from a class. \n",
    "    It is used to initialize the attributes of the object and set its initial state. \n",
    "    This is often the first method that is defined in a class.\n",
    "\n",
    "    The __init__() method takes one parameter by default, which is self. \n",
    "    This parameter refers to the instance of the class that is being created. \n",
    "    Other parameters can also be defined to take in initial values for the object's attributes."
   ]
  },
  {
   "cell_type": "code",
   "execution_count": 2,
   "id": "9851d8ed-a22e-4c5d-8ac1-6e890bf48a01",
   "metadata": {},
   "outputs": [
    {
     "name": "stdout",
     "output_type": "stream",
     "text": [
      "Hello, my name is Alice and I'm 25 years old.\n",
      "Hello, my name is Bob and I'm 30 years old.\n"
     ]
    }
   ],
   "source": [
    "class Person:\n",
    "    def __init__(self, name, age):\n",
    "        self.name = name\n",
    "        self.age = age\n",
    "\n",
    "    def greet(self):\n",
    "        print(f\"Hello, my name is {self.name} and I'm {self.age} years old.\")\n",
    "\n",
    "person1 = Person(\"Alice\", 25)\n",
    "person2 = Person(\"Bob\", 30)\n",
    "\n",
    "person1.greet()  # output: \"Hello, my name is Alice and I'm 25 years old.\"\n",
    "person2.greet()  # output: \"Hello, my name is Bob and I'm 30 years old.\""
   ]
  },
  {
   "cell_type": "code",
   "execution_count": null,
   "id": "8ebb02af-5f93-489a-92a2-e9ce75a40ca9",
   "metadata": {},
   "outputs": [],
   "source": []
  },
  {
   "cell_type": "code",
   "execution_count": null,
   "id": "409d3ee7-75a1-4948-8400-d10804ee3a0c",
   "metadata": {},
   "outputs": [],
   "source": [
    "4) Why self is used in OOPs?\n",
    "\n",
    "--> In object-oriented programming (OOP), the self keyword is used to refer to the instance of a class, \n",
    "    the object that is being created from the class. It is a reference to the current object that is being manipulated or accessed.\n",
    "\n",
    "    The self keyword is typically used as the first parameter of instance methods in Python, \n",
    "    although it can be named differently, but by convention, it is always named self. \n",
    "    The self parameter allows instance methods to access and manipulate the attributes and methods of the object that the method is being called on."
   ]
  },
  {
   "cell_type": "code",
   "execution_count": null,
   "id": "e73e482f-1f57-49b1-b3d2-89f32293cc5d",
   "metadata": {},
   "outputs": [],
   "source": []
  },
  {
   "cell_type": "code",
   "execution_count": null,
   "id": "596c6e2c-886a-4bf8-9060-820cc75fbbb1",
   "metadata": {},
   "outputs": [],
   "source": [
    "5) What is inheritance? Give an example for each type of inheritance.\n",
    "\n",
    "-->Inheritance is one of the four fundamental concepts of object-oriented programming (OOP), \n",
    "and it allows a new class to be based on an existing class, inheriting all of its attributes and methods. \n",
    "Inheritance promotes code reuse and can help to make programs more modular and easier to maintain.\n"
   ]
  },
  {
   "cell_type": "code",
   "execution_count": null,
   "id": "7faebd76-d6b8-4e36-a788-7b309ea3f529",
   "metadata": {},
   "outputs": [],
   "source": [
    "1.Single Inheritance: \n",
    "    In single inheritance, a new class is derived from a single base or parent class. \n",
    "    The new class inherits all the attributes and methods of the parent class."
   ]
  },
  {
   "cell_type": "code",
   "execution_count": 3,
   "id": "b434bc8b-b3a2-442c-9efa-147955b13046",
   "metadata": {},
   "outputs": [
    {
     "name": "stdout",
     "output_type": "stream",
     "text": [
      "The animal is eating.\n",
      "The dog is barking.\n"
     ]
    }
   ],
   "source": [
    "class Animal:\n",
    "    def eat(self):\n",
    "        print(\"The animal is eating.\")\n",
    "\n",
    "class Dog(Animal):\n",
    "    def bark(self):\n",
    "        print(\"The dog is barking.\")\n",
    "\n",
    "dog = Dog()\n",
    "dog.eat()   # output: \"The animal is eating.\"\n",
    "dog.bark()  # output: \"The dog is barking.\""
   ]
  },
  {
   "cell_type": "code",
   "execution_count": null,
   "id": "21bf4935-4972-4c87-ad48-d5dd147c59b8",
   "metadata": {},
   "outputs": [],
   "source": [
    "2.Multiple Inheritance: \n",
    "    In multiple inheritance, a new class is derived from two or more parent classes. \n",
    "    The new class inherits all the attributes and methods of both parent classes."
   ]
  },
  {
   "cell_type": "code",
   "execution_count": 4,
   "id": "c1f8f49e-766b-4877-b3fe-d3b1fba23780",
   "metadata": {},
   "outputs": [
    {
     "name": "stdout",
     "output_type": "stream",
     "text": [
      "foo from A\n",
      "bar from B\n"
     ]
    }
   ],
   "source": [
    "class A:\n",
    "    def foo(self):\n",
    "        print(\"foo from A\")\n",
    "\n",
    "class B:\n",
    "    def foo(self):\n",
    "        print(\"foo from B\")\n",
    "\n",
    "    def bar(self):\n",
    "        print(\"bar from B\")\n",
    "\n",
    "class C(A, B):\n",
    "    pass\n",
    "\n",
    "c = C()\n",
    "c.foo()  # output: \"foo from A\"\n",
    "c.bar()  # output: \"bar from B\""
   ]
  },
  {
   "cell_type": "code",
   "execution_count": null,
   "id": "6a8144d8-8fe2-4012-9fae-7aa6b7cf15ca",
   "metadata": {},
   "outputs": [],
   "source": [
    "3.Multi-level Inheritance: \n",
    "    In multi-level inheritance, a new class is derived from a class that is itself derived from another class. \n",
    "    The new class inherits all the attributes and methods of both parent classes in the hierarchy."
   ]
  },
  {
   "cell_type": "code",
   "execution_count": 5,
   "id": "f967974e-06cd-4124-b449-4b7fd966d60d",
   "metadata": {},
   "outputs": [
    {
     "name": "stdout",
     "output_type": "stream",
     "text": [
      "foo from A\n",
      "bar from B\n"
     ]
    }
   ],
   "source": [
    "class A:\n",
    "    def foo(self):\n",
    "        print(\"foo from A\")\n",
    "\n",
    "class B(A):\n",
    "    def bar(self):\n",
    "        print(\"bar from B\")\n",
    "\n",
    "class C(B):\n",
    "    pass\n",
    "\n",
    "c = C()\n",
    "c.foo()  # output: \"foo from A\"\n",
    "c.bar()  # output: \"bar from B\""
   ]
  },
  {
   "cell_type": "code",
   "execution_count": null,
   "id": "22fb569f-d1da-414e-806a-09fde4914316",
   "metadata": {},
   "outputs": [],
   "source": [
    "4.Hierarchical Inheritance:\n",
    "    Hierarchical inheritance is a type of inheritance in object-oriented programming where one class serves as a base class for two or more derived classes.\n",
    "    In this type of inheritance, each derived class inherits from the same base class and adds its own unique attributes and methods."
   ]
  },
  {
   "cell_type": "code",
   "execution_count": 6,
   "id": "0e22a678-a7c5-4e18-83df-b9e3157b2bbc",
   "metadata": {},
   "outputs": [
    {
     "name": "stdout",
     "output_type": "stream",
     "text": [
      "The animal is eating.\n",
      "The cat is meowing.\n",
      "The animal is eating.\n",
      "The dog is barking.\n"
     ]
    }
   ],
   "source": [
    "class Animal:\n",
    "    def eat(self):\n",
    "        print(\"The animal is eating.\")\n",
    "\n",
    "class Cat(Animal):\n",
    "    def meow(self):\n",
    "        print(\"The cat is meowing.\")\n",
    "\n",
    "class Dog(Animal):\n",
    "    def bark(self):\n",
    "        print(\"The dog is barking.\")\n",
    "\n",
    "cat = Cat()\n",
    "dog = Dog()\n",
    "\n",
    "cat.eat()   # output: \"The animal is eating.\"\n",
    "cat.meow()  # output: \"The cat is meowing.\"\n",
    "\n",
    "dog.eat()   # output: \"The animal is eating.\"\n",
    "dog.bark()  # output: \"The dog is barking."
   ]
  },
  {
   "cell_type": "code",
   "execution_count": null,
   "id": "c38fa754-475d-43ef-ae31-8033cac20cd6",
   "metadata": {},
   "outputs": [],
   "source": [
    "5.Hybrid Inheritance: \n",
    "    "
   ]
  }
 ],
 "metadata": {
  "kernelspec": {
   "display_name": "Python 3 (ipykernel)",
   "language": "python",
   "name": "python3"
  },
  "language_info": {
   "codemirror_mode": {
    "name": "ipython",
    "version": 3
   },
   "file_extension": ".py",
   "mimetype": "text/x-python",
   "name": "python",
   "nbconvert_exporter": "python",
   "pygments_lexer": "ipython3",
   "version": "3.10.8"
  }
 },
 "nbformat": 4,
 "nbformat_minor": 5
}
