{
 "cells": [
  {
   "cell_type": "markdown",
   "id": "a63f3641-c49e-4cf8-acf3-e3eea7766be3",
   "metadata": {},
   "source": [
    "# Feb_10_File_Assignment"
   ]
  },
  {
   "cell_type": "markdown",
   "id": "9e7189af-c07f-468d-96f9-a660cae5566d",
   "metadata": {},
   "source": [
    "Q1) Which function is used to open a file? What are the different modes of opening a file? Explain each mode\n",
    "of file opening.\n",
    "\n",
    "--> open() is used to open the file\n",
    "\n",
    "1.Read Only (‘r’) : \n",
    "    Open text file for reading. The handle is positioned at the beginning of the file. \n",
    "    If the file does not exists, raises the I/O error. This is also the default mode in which a file is opened.\n",
    "    \n",
    "2.Read and Write (‘r+’): \n",
    "    Open the file for reading and writing. The handle is positioned at the beginning of the file. \n",
    "    Raises I/O error if the file does not exist.\n",
    "    \n",
    "3.Write Only (‘w’) : \n",
    "    Open the file for writing. For the existing files, the data is truncated and over-written. \n",
    "    The handle is positioned at the beginning of the file. Creates the file if the file does not exist.\n",
    "    \n",
    "Write and Read (‘w+’) : \n",
    "    Open the file for reading and writing. For an existing file, data is truncated and over-written.\n",
    "    The handle is positioned at the beginning of the file.\n",
    "    \n",
    "Append Only (‘a’):\n",
    "    Open the file for writing. The file is created if it does not exist. \n",
    "    The handle is positioned at the end of the file. The data being written will be inserted at the end, after the existing data\n",
    ".\n",
    "Append and Read (‘a+’) :\n",
    "    Open the file for reading and writing. The file is created if it does not exist. \n",
    "    The handle is positioned at the end of the file. The data being written will be inserted at the end, after the existing data."
   ]
  },
  {
   "cell_type": "code",
   "execution_count": null,
   "id": "450112fb-0422-4e90-96a4-13123a1139ec",
   "metadata": {},
   "outputs": [],
   "source": []
  },
  {
   "cell_type": "markdown",
   "id": "588c0b06-3131-4023-be42-9cb747faecf6",
   "metadata": {},
   "source": [
    "Q2) Why close() function is used? Why is it important to close a file?\n",
    "\n",
    "--> The close() function is used to close a file object in Python. \n",
    "    It is important to close a file after reading or writing \n",
    "    \n",
    "Importance:\n",
    "\n",
    "1.Resource management: \n",
    "    When you open a file, the operating system allocates certain resources (such as file handles, disk space, etc.) to manage the file. If you don't close the file when you're done with it, these resources may not be released immediately, leading to potential issues like running out of available file handles or disk space. By closing the file, you ensure that the resources used by the file are freed up for other processes.\n",
    "\n",
    "2.Data consistency: \n",
    "    If you're writing to a file, the data you write may not actually be written to disk immediately. Instead, it may be cached in memory and written to disk later. If you don't close the file, there's a chance that some of the data you wrote won't be flushed to disk yet, potentially leading to inconsistencies or lost data.\n",
    "\n",
    "3.Security: \n",
    "    If you leave a file open, it may be possible for other processes or users to access it and read or modify its contents, potentially leading to security issues. By closing the file, you ensure that it's no longer accessible to other processes or users."
   ]
  },
  {
   "cell_type": "code",
   "execution_count": null,
   "id": "b6afb3cf-b61c-42cc-9705-fa4a79000366",
   "metadata": {},
   "outputs": [],
   "source": []
  },
  {
   "cell_type": "code",
   "execution_count": null,
   "id": "d3c53e8f-2087-4c33-8dc0-99d74f9be9ba",
   "metadata": {},
   "outputs": [],
   "source": [
    "Q3) Write a python program to create a text file. Write ‘I want to become a Data Scientist’ in that file. Then\n",
    "close the file. Open this file and read the content of the file."
   ]
  },
  {
   "cell_type": "code",
   "execution_count": 10,
   "id": "8e9e771f-6709-4f14-8112-45f9b57a1601",
   "metadata": {},
   "outputs": [],
   "source": [
    "f = open(\"test.txt\",\"w\")\n",
    "f.write(\"I want to become a Data Scientist\\n\")\n",
    "f.write(\"I love data science\")\n",
    "f.close()"
   ]
  },
  {
   "cell_type": "code",
   "execution_count": 4,
   "id": "c8e450e9-e4cd-40eb-b97e-7bca98a4c9b4",
   "metadata": {},
   "outputs": [],
   "source": [
    "f = open(\"test.txt\",\"r\")"
   ]
  },
  {
   "cell_type": "code",
   "execution_count": 5,
   "id": "46363e88-a6fc-40ea-b96e-477cd27bfea3",
   "metadata": {},
   "outputs": [
    {
     "data": {
      "text/plain": [
       "'I want to become a Data Scientist'"
      ]
     },
     "execution_count": 5,
     "metadata": {},
     "output_type": "execute_result"
    }
   ],
   "source": [
    "f.read()"
   ]
  },
  {
   "cell_type": "code",
   "execution_count": null,
   "id": "57c13a61-b039-4f46-aaf6-e34f6edcb515",
   "metadata": {},
   "outputs": [],
   "source": []
  },
  {
   "cell_type": "code",
   "execution_count": null,
   "id": "e9649fe1-d458-4aec-b62c-4dc6f59a7963",
   "metadata": {},
   "outputs": [],
   "source": [
    "Q4) Explain the following with python code: read(), readline() and readlines()."
   ]
  },
  {
   "cell_type": "code",
   "execution_count": 8,
   "id": "496294d3-8c16-4ab3-8e08-e7f8a84fa0d2",
   "metadata": {},
   "outputs": [
    {
     "name": "stdout",
     "output_type": "stream",
     "text": [
      "I want to become a Data Scientist\n"
     ]
    }
   ],
   "source": [
    "# 1.read(): This method reads the entire contents of a file as a string.\n",
    "with open('test.txt', 'r') as f:\n",
    "    data = f.read()\n",
    "    print(data)"
   ]
  },
  {
   "cell_type": "code",
   "execution_count": 11,
   "id": "09ed21b3-8add-48da-b914-6d7da848d55f",
   "metadata": {},
   "outputs": [
    {
     "name": "stdout",
     "output_type": "stream",
     "text": [
      "I want to become a Data Scientist\n",
      "\n",
      "I love data science\n"
     ]
    }
   ],
   "source": [
    "# 2.readline(): This method reads a single line of a file as a string.\n",
    "with open('test.txt', 'r') as f:\n",
    "    line1 = f.readline()\n",
    "    line2 = f.readline()\n",
    "    print(line1)\n",
    "    print(line2)\n"
   ]
  },
  {
   "cell_type": "code",
   "execution_count": 13,
   "id": "23a7b893-9526-41a6-9079-dafc0397e345",
   "metadata": {},
   "outputs": [
    {
     "name": "stdout",
     "output_type": "stream",
     "text": [
      "['I want to become a Data Scientist\\n', 'I love data science']\n"
     ]
    }
   ],
   "source": [
    "# 3.readlines(): This method reads all the lines of a file and returns them as a list of strings.\n",
    "with open('test.txt', 'r') as f:\n",
    "    lines = f.readlines()\n",
    "    print(lines)"
   ]
  },
  {
   "cell_type": "code",
   "execution_count": null,
   "id": "5eb2cf83-9fb0-4b2b-9479-de87a7555eae",
   "metadata": {},
   "outputs": [],
   "source": []
  },
  {
   "cell_type": "code",
   "execution_count": null,
   "id": "8c9a7153-4eef-4551-b85b-a3ffa7488b37",
   "metadata": {},
   "outputs": [],
   "source": [
    "Q5) Explain why with statement is used with open(). What is the advantage of using with statement and\n",
    "open() together?\n",
    "\n",
    "-->  open() is used with the with statement:\n",
    "    \n",
    "1.It automatically takes care of closing the file when you're done with it, even if an error occurs while processing the data. \n",
    "  This is known as context management, and it's a very important feature of Python."
   ]
  },
  {
   "cell_type": "code",
   "execution_count": 14,
   "id": "42f569f1-ccbe-48ee-86c8-5211503eb4e1",
   "metadata": {},
   "outputs": [
    {
     "name": "stdout",
     "output_type": "stream",
     "text": [
      "I want to become a Data Scientist\n",
      "I love data science\n"
     ]
    }
   ],
   "source": [
    "with open('test.txt', 'r') as f:\n",
    "    data = f.read()\n",
    "    print(data)"
   ]
  },
  {
   "cell_type": "code",
   "execution_count": null,
   "id": "3dbc49f7-8ba4-4f99-af2c-d3bd4d503678",
   "metadata": {},
   "outputs": [],
   "source": [
    "The advantage of using with and open() together is that :\n",
    "    \n",
    "1.It ensures that the file is closed properly, even if an exception is raised while working with the file. \n",
    "2.This helps to prevent resource leaks and potential data corruption. \n",
    "3.It also makes the code cleaner and more concise, since you don't need to explicitly close the file using f.close()."
   ]
  },
  {
   "cell_type": "code",
   "execution_count": null,
   "id": "559424ef-8711-48b9-a661-f0b30110ac29",
   "metadata": {},
   "outputs": [],
   "source": []
  },
  {
   "cell_type": "code",
   "execution_count": null,
   "id": "c7368094-e8f7-4ace-9edd-badaf2dd2bfd",
   "metadata": {},
   "outputs": [],
   "source": [
    "Q6) Explain the write() and writelines() functions. Give a suitable example."
   ]
  },
  {
   "cell_type": "code",
   "execution_count": null,
   "id": "1c92cc04-a6d2-46c3-9387-66254cf2789e",
   "metadata": {},
   "outputs": [],
   "source": [
    "1.write() function: \n",
    "    This method writes a string of characters to a file. \n",
    "    It returns the number of characters that were written.\n"
   ]
  },
  {
   "cell_type": "code",
   "execution_count": 15,
   "id": "3a1e29b8-3c06-4ecc-aa7f-6ffde0233598",
   "metadata": {},
   "outputs": [],
   "source": [
    "with open('test1.txt', 'w') as f:\n",
    "    f.write('Hello, World!\\n')\n",
    "    f.write('How are you today?')\n"
   ]
  },
  {
   "cell_type": "code",
   "execution_count": null,
   "id": "cccf2dd2-1a5b-4316-a4fc-45aa7626d874",
   "metadata": {},
   "outputs": [],
   "source": []
  },
  {
   "cell_type": "code",
   "execution_count": null,
   "id": "27337fb4-96c0-4318-a20f-6263198344cb",
   "metadata": {},
   "outputs": [],
   "source": []
  }
 ],
 "metadata": {
  "kernelspec": {
   "display_name": "Python 3 (ipykernel)",
   "language": "python",
   "name": "python3"
  },
  "language_info": {
   "codemirror_mode": {
    "name": "ipython",
    "version": 3
   },
   "file_extension": ".py",
   "mimetype": "text/x-python",
   "name": "python",
   "nbconvert_exporter": "python",
   "pygments_lexer": "ipython3",
   "version": "3.10.8"
  }
 },
 "nbformat": 4,
 "nbformat_minor": 5
}
