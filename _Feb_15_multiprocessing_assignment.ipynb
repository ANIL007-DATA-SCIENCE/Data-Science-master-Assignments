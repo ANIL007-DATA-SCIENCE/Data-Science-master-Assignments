{
 "cells": [
  {
   "cell_type": "markdown",
   "id": "f0a2b058-22da-4058-acc7-40f1dd202e6f",
   "metadata": {},
   "source": [
    "# Feb_15_multiprocessing_assignment"
   ]
  },
  {
   "cell_type": "code",
   "execution_count": null,
   "id": "dc7773ca-4ae8-4b2f-b052-98186215a6de",
   "metadata": {},
   "outputs": [],
   "source": [
    "Q1. What is multiprocessing in python? Why is it useful?\n",
    "\n",
    "-->\n",
    "multiprocessing is run multiple proceses in a single thread\n",
    "    \n",
    "Multiprocessing is useful in situations where a program needs to perform computationally intensive tasks, \n",
    "\n",
    "1.such as data processing or scientific simulations, that can benefit from parallel processing. \n",
    "2.It can also be used to improve the performance of I/O-bound tasks, such as network or disk I/O, \n",
    "    by allowing multiple operations to be performed concurrently.\n",
    "    \n",
    "\n",
    "\n",
    "\n",
    "\n",
    "Q6. Write a python program to create 4 processes, each process should print a different number using the\n",
    "multiprocessing module in python."
   ]
  },
  {
   "cell_type": "code",
   "execution_count": null,
   "id": "d2a5f74b-a0db-473a-b83d-aed66cf69c88",
   "metadata": {},
   "outputs": [],
   "source": []
  },
  {
   "cell_type": "code",
   "execution_count": null,
   "id": "da581013-66ad-48a3-8a3a-98e9d007a0ff",
   "metadata": {},
   "outputs": [],
   "source": [
    "Q2. What are the differences between multiprocessing and multithreading?\n",
    "-->\n",
    "a.Memory: \n",
    "    multiprocessing: each process has its own memory space. \n",
    "    multithreading: all threads share the same memory space.\n",
    "\n",
    "b.CPU: \n",
    "    multiprocessing: processes run on separate CPUs or CPU cores, \n",
    "    multithreading:  threads run on the same CPU or CPU core.\n",
    "\n",
    "c.Parallelism: \n",
    "    Multiprocessing :provides true parallelism, as each process can execute on a separate CPU or CPU core, \n",
    "    multithreading: can only achieve concurrency, as threads must share the same CPU or CPU core and take turns executing.\n",
    "\n",
    "d.Overhead:\n",
    "    Multiprocessing: It has higher overhead than multithreading, \n",
    "    as creating and managing processes involves more overhead than creating and managing threads."
   ]
  },
  {
   "cell_type": "code",
   "execution_count": null,
   "id": "e753dda3-fb1b-4bd5-952f-4d0c1375af93",
   "metadata": {},
   "outputs": [],
   "source": []
  },
  {
   "cell_type": "code",
   "execution_count": null,
   "id": "30316da1-33a5-486b-8f76-377187918c69",
   "metadata": {},
   "outputs": [],
   "source": [
    "Q3. Write a python code to create a process using the multiprocessing module."
   ]
  },
  {
   "cell_type": "code",
   "execution_count": 1,
   "id": "ea4dcf93-62ca-4a47-9305-4cce2c93e1d7",
   "metadata": {},
   "outputs": [
    {
     "name": "stdout",
     "output_type": "stream",
     "text": [
      "Worker process running...\n"
     ]
    }
   ],
   "source": [
    "import multiprocessing\n",
    "\n",
    "def worker():\n",
    "    print(\"Worker process running...\")\n",
    "\n",
    "if __name__ == '__main__':\n",
    "    process = multiprocessing.Process(target=worker)\n",
    "    process.start()\n"
   ]
  },
  {
   "cell_type": "code",
   "execution_count": null,
   "id": "df61a301-588f-4bae-bfe4-512fa09f0b9b",
   "metadata": {},
   "outputs": [],
   "source": []
  },
  {
   "cell_type": "code",
   "execution_count": null,
   "id": "2b9e6bd2-1bdd-4ee0-87d9-05294e013de1",
   "metadata": {},
   "outputs": [],
   "source": [
    "Q4. What is a multiprocessing pool in python? Why is it used?\n",
    "\n",
    "-->a.The multiprocessing Pool class in Python provides a way to create a pool of worker processes \n",
    "        and submit tasks to be executed in parallel. \n",
    "   b.The pool manages the creation and management of the worker processes, \n",
    "        and provides a simple interface for submitting tasks and retrieving results.\n",
    "    \n",
    "Multiprocessing pools are useful in situations:\n",
    "    a.where a program needs to perform a large number of independent tasks, such as data processing or scientific simulations, \n",
    "        that can be executed in parallel. They can significantly reduce the time it \n",
    "        takes to complete a task by distributing the workload across multiple processes."
   ]
  },
  {
   "cell_type": "code",
   "execution_count": null,
   "id": "e2c7097f-a847-4434-b1e6-e35bec362e87",
   "metadata": {},
   "outputs": [],
   "source": []
  },
  {
   "cell_type": "code",
   "execution_count": null,
   "id": "21ab85e1-6e40-46f8-b811-048b725a3051",
   "metadata": {},
   "outputs": [],
   "source": [
    "Q5. How can we create a pool of worker processes in python using the multiprocessing module?"
   ]
  },
  {
   "cell_type": "code",
   "execution_count": null,
   "id": "80734647-1c33-4103-ab0d-4f6b14c43977",
   "metadata": {},
   "outputs": [],
   "source": [
    "import multiprocessing\n",
    "\n",
    "def worker(num):\n",
    "    \"\"\"A function to print the square of a number\"\"\"\n",
    "    print(\"Worker %d \" % num)\n",
    "    return\n",
    "\n",
    "if __name__ == '__main__':\n",
    "    # Create a pool of 4 worker processes\n",
    "    pool = multiprocessing.Pool(processes=4)\n",
    "    \n",
    "    # Create a list of numbers to square\n",
    "    nums = [1, 2, 3, 4, 5]\n",
    "    \n",
    "    # Map the worker function to each number in the list\n",
    "    results = pool.map(worker, nums)\n",
    "    \n",
    "    # Close the pool and wait for the work to finish\n",
    "    pool.close()\n",
    "    pool.join()\n"
   ]
  },
  {
   "cell_type": "code",
   "execution_count": null,
   "id": "53d42991-c615-456c-8e28-2171cacdb4ee",
   "metadata": {},
   "outputs": [],
   "source": []
  }
 ],
 "metadata": {
  "kernelspec": {
   "display_name": "Python 3 (ipykernel)",
   "language": "python",
   "name": "python3"
  },
  "language_info": {
   "codemirror_mode": {
    "name": "ipython",
    "version": 3
   },
   "file_extension": ".py",
   "mimetype": "text/x-python",
   "name": "python",
   "nbconvert_exporter": "python",
   "pygments_lexer": "ipython3",
   "version": "3.10.8"
  }
 },
 "nbformat": 4,
 "nbformat_minor": 5
}
