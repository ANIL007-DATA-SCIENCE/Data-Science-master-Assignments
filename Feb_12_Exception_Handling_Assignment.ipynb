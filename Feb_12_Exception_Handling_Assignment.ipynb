{
 "cells": [
  {
   "cell_type": "markdown",
   "id": "3e7077f9-ab2c-49e8-a761-9afd0342f578",
   "metadata": {},
   "source": [
    "# Feb_12_Exception_Handling_Assignment"
   ]
  },
  {
   "cell_type": "code",
   "execution_count": null,
   "id": "251a8982-f018-4e3b-b8bd-7e336888ab68",
   "metadata": {},
   "outputs": [],
   "source": [
    "1) what is the exception in python? what is the deffernce between syntax error and exception error"
   ]
  },
  {
   "cell_type": "code",
   "execution_count": null,
   "id": "471ae919-7723-4aba-8a7e-eec1d5e67d29",
   "metadata": {},
   "outputs": [],
   "source": [
    "Exception is an error that occurs during the execution of a program that disrupts the normal flow of the program. \n",
    "When an exception occurs, Python raises an object that represents the error and searches the calling stack to find a handler for the error."
   ]
  },
  {
   "cell_type": "code",
   "execution_count": null,
   "id": "301e6a25-e46a-4a2a-bdfe-3de7d1770513",
   "metadata": {},
   "outputs": [],
   "source": [
    "A syntax error is an error that occurs when the Python interpreter encounters a statement that it cannot parse, \n",
    "due to a violation of the language syntax rules. Syntax errors are caught by the Python parser before the code is executed,\n",
    "and they prevent the program from running. \n",
    "Examples of syntax errors include misspelled keywords, missing punctuation, or incorrect indentation."
   ]
  },
  {
   "cell_type": "code",
   "execution_count": null,
   "id": "bfaf5993-5e0d-417c-abfd-b14d0eb7af36",
   "metadata": {},
   "outputs": [],
   "source": [
    "exception error is an error that occurs during the execution of a program, due to a specific condition that is not handled properly.\n",
    "Examples of exception errors include trying to divide by zero, accessing an invalid index in a list,\n",
    "or trying to open a file that does not exist. \n",
    "Exception errors are caught by Python's exception handling mechanism, \n",
    "which allows the program to gracefully handle the error and continue executing, or terminate if necessary."
   ]
  },
  {
   "cell_type": "code",
   "execution_count": null,
   "id": "32404bc7-b3af-45aa-96c3-160fd94e5128",
   "metadata": {},
   "outputs": [],
   "source": []
  },
  {
   "cell_type": "code",
   "execution_count": null,
   "id": "3c44d8f0-26b1-4d5e-98fb-99e52e2a0b32",
   "metadata": {},
   "outputs": [],
   "source": [
    "2) what happens when an execution is not handeled? Explain with example?"
   ]
  },
  {
   "cell_type": "code",
   "execution_count": null,
   "id": "93a75677-1ac6-4c73-80f9-706098e1e183",
   "metadata": {},
   "outputs": [],
   "source": [
    "When the Exception is not handled the program will terminate with an error message. \n",
    "This is because Python does not know how to continue executing the program when an exception occurs"
   ]
  },
  {
   "cell_type": "code",
   "execution_count": 2,
   "id": "8e926646-d018-4b39-8aa9-b58771a156ce",
   "metadata": {},
   "outputs": [
    {
     "ename": "ZeroDivisionError",
     "evalue": "division by zero",
     "output_type": "error",
     "traceback": [
      "\u001b[0;31m---------------------------------------------------------------------------\u001b[0m",
      "\u001b[0;31mZeroDivisionError\u001b[0m                         Traceback (most recent call last)",
      "Cell \u001b[0;32mIn[2], line 3\u001b[0m\n\u001b[1;32m      1\u001b[0m \u001b[38;5;66;03m#Example:\u001b[39;00m\n\u001b[1;32m      2\u001b[0m \u001b[38;5;28;01mtry\u001b[39;00m:\n\u001b[0;32m----> 3\u001b[0m     x \u001b[38;5;241m=\u001b[39m \u001b[38;5;241;43m10\u001b[39;49m\u001b[43m \u001b[49m\u001b[38;5;241;43m/\u001b[39;49m\u001b[43m \u001b[49m\u001b[38;5;241;43m0\u001b[39;49m\n\u001b[1;32m      4\u001b[0m \u001b[38;5;28;01mexcept\u001b[39;00m \u001b[38;5;167;01mValueError\u001b[39;00m:\n\u001b[1;32m      5\u001b[0m     \u001b[38;5;28mprint\u001b[39m(\u001b[38;5;124m\"\u001b[39m\u001b[38;5;124mOops! ValueError occurred.\u001b[39m\u001b[38;5;124m\"\u001b[39m)\n",
      "\u001b[0;31mZeroDivisionError\u001b[0m: division by zero"
     ]
    }
   ],
   "source": [
    "#Example:\n",
    "try:\n",
    "    x = 10 / 0\n",
    "except ValueError:\n",
    "    print(\"Oops! ValueError occurred.\")\n",
    "    \n",
    "\"\"\"the code tries to divide 10 by 0, which is not allowed and will raise a ZeroDivisionError exception.\n",
    "the except block is only designed to handle ValueError exceptions, so when the ZeroDivisionError occurs,\n",
    "it is not caught and will cause the program to terminate with an error message:\"\"\"\n"
   ]
  },
  {
   "cell_type": "code",
   "execution_count": 3,
   "id": "94c2edf8-a147-480d-b94a-8b5188d88b98",
   "metadata": {},
   "outputs": [
    {
     "name": "stdout",
     "output_type": "stream",
     "text": [
      "Oops! Division by zero occurred.\n"
     ]
    }
   ],
   "source": [
    "try:\n",
    "    x = 10 / 0\n",
    "except ZeroDivisionError:\n",
    "    print(\"Oops! Division by zero occurred.\")\n",
    "except:\n",
    "    print(\"Oops! Something went wrong.\")\n",
    "    \n",
    "\"\"\"\"In order to handle the ZeroDivisionError, \n",
    "the developer could add another except block that specifically handles that type of exception, \n",
    "or they could modify the existing except block to catch all exceptions:\n",
    "\"\"\"\n"
   ]
  },
  {
   "cell_type": "code",
   "execution_count": null,
   "id": "37d443d5-b82e-48c5-8992-e20f10081335",
   "metadata": {},
   "outputs": [],
   "source": []
  },
  {
   "cell_type": "code",
   "execution_count": null,
   "id": "638bdeed-e340-4436-a09a-173370313959",
   "metadata": {},
   "outputs": [],
   "source": [
    "3)Which python statements are used catch and handle the exception? Explain with an example."
   ]
  },
  {
   "cell_type": "code",
   "execution_count": null,
   "id": "937d136d-59b2-41c1-ad75-f8c30f0b5fef",
   "metadata": {},
   "outputs": [],
   "source": [
    "Python statements are catch and handle exceptions using the try and except statements. \n",
    "try statement is used to define a block of code where an exception may occur,\n",
    "except statement is used to define how to handle the exception."
   ]
  },
  {
   "cell_type": "code",
   "execution_count": 6,
   "id": "d3a6be42-802b-458a-bf35-4df2497be6cd",
   "metadata": {},
   "outputs": [
    {
     "name": "stdout",
     "output_type": "stream",
     "text": [
      "Oops! Division by zero occurred.\n"
     ]
    }
   ],
   "source": [
    "try:\n",
    "    x = 10 / 0\n",
    "except ZeroDivisionError:\n",
    "    print(\"Oops! Division by zero occurred.\")\n",
    "except ValueError:\n",
    "    print(\"Oops! Invalid input.\")\n",
    "except:\n",
    "    print(\"Oops! Something went wrong.\")\n",
    "    "
   ]
  },
  {
   "cell_type": "code",
   "execution_count": null,
   "id": "239e3d02-08cd-4a79-b762-db90892c2d16",
   "metadata": {},
   "outputs": [],
   "source": [
    "\"\"\"In the above example, the try block attempts to divide 10 by 0, \n",
    "which will raise a ZeroDivisionError exception. \n",
    "The first except block will catch the ZeroDivisionError and print a message. \n",
    "The second except block will catch a ValueError exception, which could occur if the user input is invalid. \n",
    "The third except block will catch any other exception that was not caught by the previous except blocks.\"\"\""
   ]
  },
  {
   "cell_type": "code",
   "execution_count": null,
   "id": "6858d4b4-190f-4b35-b6ce-a1a5ab9785f1",
   "metadata": {},
   "outputs": [],
   "source": []
  },
  {
   "cell_type": "code",
   "execution_count": null,
   "id": "d8e009e7-0df0-4ff0-a844-1595fe164fcf",
   "metadata": {},
   "outputs": [],
   "source": [
    "4)Explain with an example ?\n",
    "\n",
    "1.try and else:\n",
    "    try and except statements are used to handle exceptions, which are errors that occur during the execution of a program. \n",
    "    The else clause can be used with try and except to specify a block of code that should be executed if no exceptions are raised in the try block."
   ]
  },
  {
   "cell_type": "code",
   "execution_count": 2,
   "id": "e31a0f83-adff-42ea-a4b8-7b68650208af",
   "metadata": {},
   "outputs": [
    {
     "name": "stdin",
     "output_type": "stream",
     "text": [
      "Please enter a number:  10\n",
      "Please enter another number:  2\n"
     ]
    },
    {
     "name": "stdout",
     "output_type": "stream",
     "text": [
      "10 divided by 2 is 5.0.\n"
     ]
    }
   ],
   "source": [
    "# Example:\n",
    "try:\n",
    "    x = int(input(\"Please enter a number: \"))\n",
    "    y = int(input(\"Please enter another number: \"))\n",
    "    z = x / y\n",
    "except ValueError:\n",
    "    print(\"Please enter valid integers.\")\n",
    "except ZeroDivisionError:\n",
    "    print(\"Cannot divide by zero.\")\n",
    "else:\n",
    "    print(f\"{x} divided by {y} is {z}.\")\n"
   ]
  },
  {
   "cell_type": "code",
   "execution_count": null,
   "id": "ff90677a-2079-496d-b183-eb2b2ff82cd8",
   "metadata": {},
   "outputs": [],
   "source": [
    "2. finally :\n",
    "    finally clause is used to specify a block of code that should be executed regardless of whether an exception was raised or not. \n",
    "    The finally block is typically used to clean up resources, such as closing a file or a database connection."
   ]
  },
  {
   "cell_type": "code",
   "execution_count": 4,
   "id": "599a3ad6-c230-444a-8d37-884d35d90a06",
   "metadata": {},
   "outputs": [
    {
     "name": "stdout",
     "output_type": "stream",
     "text": [
      "['Hello, World!\\n', 'How are you today?']\n"
     ]
    }
   ],
   "source": [
    "#  Example of finally block\n",
    "try:\n",
    "    f = open(\"test1.txt\", \"r\")\n",
    "    lines = f.readlines()\n",
    "    print(lines)\n",
    "except FileNotFoundError:\n",
    "    print(\"File not found.\")\n",
    "finally:\n",
    "    if f:\n",
    "        f.close()"
   ]
  },
  {
   "cell_type": "code",
   "execution_count": null,
   "id": "4a1ba26d-1bfb-437b-801c-a99790b3cc96",
   "metadata": {},
   "outputs": [],
   "source": [
    "3.raise:\n",
    "    raise statement is used to raise an exception manually. \n",
    "    This can be useful if you want to create your own custom exceptions or if you want to raise an exception in response to a specific condition."
   ]
  },
  {
   "cell_type": "code",
   "execution_count": 5,
   "id": "d02729cf-f4fc-4f75-a998-d2708e571570",
   "metadata": {},
   "outputs": [
    {
     "name": "stdout",
     "output_type": "stream",
     "text": [
      "Cannot divide by zero.\n"
     ]
    }
   ],
   "source": [
    "def divide(x, y):\n",
    "    if y == 0:\n",
    "        raise ZeroDivisionError(\"Cannot divide by zero.\")\n",
    "    return x / y\n",
    "\n",
    "try:\n",
    "    result = divide(10, 0)\n",
    "except ZeroDivisionError as error:\n",
    "    print(error)\n"
   ]
  },
  {
   "cell_type": "code",
   "execution_count": null,
   "id": "3cd2f02d-20ca-4f28-8080-7e305b4308cd",
   "metadata": {},
   "outputs": [],
   "source": []
  },
  {
   "cell_type": "code",
   "execution_count": null,
   "id": "01d91b9a-edd4-49f4-97bd-7e85dfbcc47a",
   "metadata": {},
   "outputs": [],
   "source": [
    "Q5) What are the custom excption in pyhon?Why do we need custom exception?Explain with example\n",
    "\n",
    "--> Here you can create custom exceptions by defining a new class that inherits from the built-in Exception class or one of its subclasses.\n",
    "\n",
    "Custom exceptions are useful when you want to raise an exception that is specific to your program's requirements or domain.\n",
    "\n",
    "\n",
    "class CustomException(Exception):\n",
    "    pass\n"
   ]
  },
  {
   "cell_type": "code",
   "execution_count": 7,
   "id": "b613aa34-eb14-4e24-bd55-903164bfa88d",
   "metadata": {},
   "outputs": [],
   "source": [
    "class CustomException(Exception):\n",
    "    def __init__(self, message):\n",
    "        self.message = message\n",
    "\n",
    "    def __str__(self):\n",
    "        return f\"CustomException: {self.message}\""
   ]
  },
  {
   "cell_type": "code",
   "execution_count": 8,
   "id": "73f0d4b0-30f6-45e3-a249-e807c3b93252",
   "metadata": {},
   "outputs": [
    {
     "name": "stdout",
     "output_type": "stream",
     "text": [
      "CustomException: x must be non-negative\n"
     ]
    }
   ],
   "source": [
    "def foo(x):\n",
    "    if x < 0:\n",
    "        raise CustomException(\"x must be non-negative\")\n",
    "    return x + 1\n",
    "\n",
    "try:\n",
    "    result = foo(-1)\n",
    "except CustomException as e:\n",
    "    print(e)\n"
   ]
  },
  {
   "cell_type": "code",
   "execution_count": null,
   "id": "222c5b4c-1f73-4cee-b5a5-63ef965d68b5",
   "metadata": {},
   "outputs": [],
   "source": []
  },
  {
   "cell_type": "code",
   "execution_count": null,
   "id": "0cd8c835-11d8-4015-ae35-38ce9c09676d",
   "metadata": {},
   "outputs": [],
   "source": [
    "Q6) create custom exception class. use class handle on exception"
   ]
  },
  {
   "cell_type": "code",
   "execution_count": 1,
   "id": "bb1bc2a6-b7f6-4740-8ff5-2c9f5ed88a12",
   "metadata": {},
   "outputs": [],
   "source": [
    "class validatage(Exception):\n",
    "    def __init__(self,msg):\n",
    "        self.msg = msg\n",
    "         "
   ]
  },
  {
   "cell_type": "code",
   "execution_count": 2,
   "id": "d0ba6773-b9ba-4d80-8f13-ba1359321ba9",
   "metadata": {},
   "outputs": [],
   "source": [
    "def validate_age(age):\n",
    "    if age < 0:\n",
    "        raise validatage(\"age is should not be lesser than zero\")\n",
    "\n",
    "    elif age > 100:\n",
    "        raise validatage(\"age is too high\")\n",
    "\n",
    "    else:\n",
    "        print(\"age is valid\")  \n",
    "    "
   ]
  },
  {
   "cell_type": "code",
   "execution_count": 3,
   "id": "8f4b14bb-9897-4ce3-8505-b4fc8353723d",
   "metadata": {},
   "outputs": [
    {
     "name": "stdin",
     "output_type": "stream",
     "text": [
      "Enter the age:  125\n"
     ]
    },
    {
     "name": "stdout",
     "output_type": "stream",
     "text": [
      "age is too high\n"
     ]
    }
   ],
   "source": [
    "try:\n",
    "    age = int(input(\"Enter the age: \"))\n",
    "    validate_age(age)\n",
    "except validatage as e:\n",
    "    print(e)"
   ]
  },
  {
   "cell_type": "code",
   "execution_count": null,
   "id": "3035a098-62a9-435e-a16b-8c797fabf6bd",
   "metadata": {},
   "outputs": [],
   "source": []
  }
 ],
 "metadata": {
  "kernelspec": {
   "display_name": "Python 3 (ipykernel)",
   "language": "python",
   "name": "python3"
  },
  "language_info": {
   "codemirror_mode": {
    "name": "ipython",
    "version": 3
   },
   "file_extension": ".py",
   "mimetype": "text/x-python",
   "name": "python",
   "nbconvert_exporter": "python",
   "pygments_lexer": "ipython3",
   "version": "3.10.8"
  }
 },
 "nbformat": 4,
 "nbformat_minor": 5
}
