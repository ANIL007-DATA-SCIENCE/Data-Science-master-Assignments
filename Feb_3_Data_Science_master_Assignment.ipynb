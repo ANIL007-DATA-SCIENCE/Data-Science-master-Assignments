{
 "cells": [
  {
   "cell_type": "markdown",
   "id": "2adc4dc1-72f5-4fd6-8f5f-18a52de10527",
   "metadata": {},
   "source": [
    "# Function Assignment"
   ]
  },
  {
   "cell_type": "code",
   "execution_count": null,
   "id": "860da3f4-e5f7-4e29-bfc9-a0f47995f9b1",
   "metadata": {},
   "outputs": [],
   "source": [
    "1) Which keyword is used to create a function? Create a function to return a list of odd numbers in the\n",
    "range of 1 to 25."
   ]
  },
  {
   "cell_type": "code",
   "execution_count": null,
   "id": "9a5f6e0b-eb87-4e7d-8f2e-992eebbffa80",
   "metadata": {},
   "outputs": [],
   "source": [
    "--> def keyword is used to create function"
   ]
  },
  {
   "cell_type": "code",
   "execution_count": 1,
   "id": "916f9cd8-1e6b-47bf-9a5d-14db2e02c9b2",
   "metadata": {},
   "outputs": [
    {
     "data": {
      "text/plain": [
       "[1, 3, 5, 7, 9, 11, 13, 15, 17, 19, 21, 23]"
      ]
     },
     "execution_count": 1,
     "metadata": {},
     "output_type": "execute_result"
    }
   ],
   "source": [
    "# Create a function to return a list of odd numbers in the range of 1 to 25.\n",
    "def test_odd():\n",
    "    n = []\n",
    "    for i in range(1,25):\n",
    "        if i % 2 != 0:\n",
    "            n.append(i)\n",
    "    return n\n",
    "test_odd()"
   ]
  },
  {
   "cell_type": "code",
   "execution_count": null,
   "id": "02483113-854d-49ba-9469-1271b5a95fcf",
   "metadata": {},
   "outputs": [],
   "source": []
  },
  {
   "cell_type": "code",
   "execution_count": null,
   "id": "32f30394-257d-4ccf-bb67-227651929ef2",
   "metadata": {},
   "outputs": [],
   "source": [
    "2) Why *args and **kwargs is used in some functions? Create a function each for *args and **kwargs to\n",
    "demonstrate their use."
   ]
  },
  {
   "cell_type": "code",
   "execution_count": null,
   "id": "13713917-6ed4-4e28-9e84-e98d908a56f9",
   "metadata": {},
   "outputs": [],
   "source": [
    "--> *args in function definitions in python is used to pass a variable number of arguments to a function. \n",
    "It is used to pass a non-key worded, variable-length argument list."
   ]
  },
  {
   "cell_type": "code",
   "execution_count": 2,
   "id": "26e4ee7c-7c44-4814-8440-9bb9fc9c03f5",
   "metadata": {},
   "outputs": [
    {
     "name": "stdout",
     "output_type": "stream",
     "text": [
      "Hello\n",
      "Welcome\n",
      "to\n",
      "data science master class\n"
     ]
    }
   ],
   "source": [
    "def myFun(*argv):\n",
    "    for arg in argv:\n",
    "        print(arg)\n",
    " \n",
    " \n",
    "myFun('Hello', 'Welcome', 'to', 'data science master class')"
   ]
  },
  {
   "cell_type": "code",
   "execution_count": null,
   "id": "34431435-061a-4b93-a171-862cc682c9ef",
   "metadata": {},
   "outputs": [],
   "source": [
    "--> **kwargs in function definitions in python is used to pass a keyworded, variable-length argument list. \n",
    "We use the name kwargs with the double star."
   ]
  },
  {
   "cell_type": "code",
   "execution_count": 4,
   "id": "1c21043d-b16b-4f9e-88b1-873f2c1b6d0a",
   "metadata": {},
   "outputs": [],
   "source": [
    "def test6(**aks):\n",
    "    for i in aks.keys():\n",
    "        if type(aks[i]) == list:\n",
    "            return i, aks[i]"
   ]
  },
  {
   "cell_type": "code",
   "execution_count": 5,
   "id": "a50755f5-4bbe-48b7-b0d5-062e7eb61d42",
   "metadata": {},
   "outputs": [
    {
     "data": {
      "text/plain": [
       "('d', [1, 2, 3, 5])"
      ]
     },
     "execution_count": 5,
     "metadata": {},
     "output_type": "execute_result"
    }
   ],
   "source": [
    "test6(a=34,b=76,c=\"data\",d=[1,2,3,5])"
   ]
  },
  {
   "cell_type": "code",
   "execution_count": null,
   "id": "b9f9f0ab-138f-4a20-8b17-24fddce5d524",
   "metadata": {},
   "outputs": [],
   "source": []
  },
  {
   "cell_type": "code",
   "execution_count": null,
   "id": "53a239bc-6a2e-4a5b-974f-79285cfdb765",
   "metadata": {},
   "outputs": [],
   "source": [
    "3) What is an iterator in python? Name the method used to initialise the iterator object and the method\n",
    "used for iteration. Use these methods to print the first five elements of the given list [2, 4, 6, 8, 10, 12, 14, 16,\n",
    "18, 20]."
   ]
  },
  {
   "cell_type": "code",
   "execution_count": null,
   "id": "b05fb958-8dab-4428-8aac-c18476d6d70a",
   "metadata": {},
   "outputs": [],
   "source": [
    "--> An iterator in Python is an object that can be iterated (looped) upon. \n",
    "An object which will return data, one element at a time when next() is called on it."
   ]
  },
  {
   "cell_type": "code",
   "execution_count": null,
   "id": "2e2402dd-5664-4607-b54c-08ede54ef160",
   "metadata": {},
   "outputs": [],
   "source": [
    "In Python, an iterator object can be created using the iter() method. The next() method is used for iteration."
   ]
  },
  {
   "cell_type": "code",
   "execution_count": null,
   "id": "46731f1b-396f-484c-b13a-b7fc6bae5a13",
   "metadata": {},
   "outputs": [],
   "source": [
    "numbers = [2, 4, 6, 8, 10, 12, 14, 16, 18, 20]\n",
    "\n",
    "# Initialize the iterator object\n",
    "numbers_iterator = iter(numbers)\n",
    "\n",
    "# Use the next() method for iteration\n",
    "print(next(numbers_iterator))\n",
    "print(next(numbers_iterator))\n",
    "print(next(numbers_iterator))\n",
    "print(next(numbers_iterator))\n",
    "print(next(numbers_iterator))"
   ]
  },
  {
   "cell_type": "code",
   "execution_count": null,
   "id": "6dc7ce3a-b17b-42c4-b06d-6ec6dba49d34",
   "metadata": {},
   "outputs": [],
   "source": []
  },
  {
   "cell_type": "code",
   "execution_count": null,
   "id": "d6d32dff-03f5-4346-9448-9721c729ceed",
   "metadata": {},
   "outputs": [],
   "source": [
    "4) What is a generator function in python? Why yield keyword is used? Give an example of a generator\n",
    "function."
   ]
  },
  {
   "cell_type": "code",
   "execution_count": null,
   "id": "0b2c615e-54c5-4a22-8391-2e02ef9244e0",
   "metadata": {},
   "outputs": [],
   "source": [
    "-->generator is a function that returns an iterator that produces a sequence of values when iterated over. "
   ]
  },
  {
   "cell_type": "code",
   "execution_count": null,
   "id": "e3c92e54-c8ba-4023-ac77-ef9e92c6585a",
   "metadata": {},
   "outputs": [],
   "source": [
    "--> yield keyword is used to create a generator function. \n",
    "A type of function that is memory efficient and can be used like an iterator object."
   ]
  },
  {
   "cell_type": "code",
   "execution_count": null,
   "id": "82a8f8e4-833e-4a18-b7a4-2830084c0535",
   "metadata": {},
   "outputs": [],
   "source": [
    "def test_fib(n):\n",
    "    a,b = 0,1\n",
    "    for i in range(n):\n",
    "        yield a\n",
    "        a,b = a,a+b\n",
    "test_fib(20)\n",
    "for i in range(20):\n",
    "    print(i,end=\" \")"
   ]
  },
  {
   "cell_type": "code",
   "execution_count": null,
   "id": "9381eb65-e57e-4f1c-b8de-72f6dfbf41e2",
   "metadata": {},
   "outputs": [],
   "source": []
  },
  {
   "cell_type": "code",
   "execution_count": null,
   "id": "7ac1a347-34a1-44d2-a599-3521d4b314ee",
   "metadata": {},
   "outputs": [],
   "source": [
    "5) Create a generator function for prime numbers less than 1000. Use the next() method to print the\n",
    "first 20 prime numbers."
   ]
  },
  {
   "cell_type": "code",
   "execution_count": null,
   "id": "d53cb372-339f-4fbc-9bd1-546e22165711",
   "metadata": {},
   "outputs": [],
   "source": [
    "def test_prime():\n",
    "    yield 2\n",
    "    primes = [2]\n",
    "    number = 3\n",
    "    while number < 1000:\n",
    "        is_prime = True\n",
    "        for prime in primes:\n",
    "            if prime > int(number ** 0.5) + 1:\n",
    "                break\n",
    "            if number % prime == 0:\n",
    "                is_prime = False\n",
    "                break\n",
    "        if is_prime:\n",
    "            primes.append(number)\n",
    "            yield number\n",
    "        number += 2\n",
    "\n",
    "# Initialize the generator object\n",
    "prime_numbers = test_prime()\n",
    "\n",
    "# Use the next() method for iteration\n",
    "for i in range(20):\n",
    "    print(next(prime_numbers),end=\" \")"
   ]
  },
  {
   "cell_type": "code",
   "execution_count": null,
   "id": "4c7282b6-c6ca-41b3-b3e8-cbca267bd27b",
   "metadata": {},
   "outputs": [],
   "source": []
  }
 ],
 "metadata": {
  "kernelspec": {
   "display_name": "Python 3 (ipykernel)",
   "language": "python",
   "name": "python3"
  },
  "language_info": {
   "codemirror_mode": {
    "name": "ipython",
    "version": 3
   },
   "file_extension": ".py",
   "mimetype": "text/x-python",
   "name": "python",
   "nbconvert_exporter": "python",
   "pygments_lexer": "ipython3",
   "version": "3.10.8"
  }
 },
 "nbformat": 4,
 "nbformat_minor": 5
}
